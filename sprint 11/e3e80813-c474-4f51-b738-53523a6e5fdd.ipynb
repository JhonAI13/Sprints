{
 "cells": [
  {
   "cell_type": "markdown",
   "id": "5cf3cd85",
   "metadata": {},
   "source": [
    "<div>\n",
    "Olá, Jonathas!\n",
    "\n",
    "Meu nome é Luiz. Fico feliz em revisar seu projeto. Ao longo do texto farei algumas observações sobre melhorias no código e também farei comentários sobre suas percepções sobre o assunto. Estarei aberto a feedbacks e discussões sobre o tema.\n",
    "\n",
    "**Peço que mantenha e não altere os comentários que eu fizer por aqui para que possamos nos localizar posteriormente, ok?**\n",
    "\n",
    "Mais uma coisa, vamos utilizar um código de cores para você entender o meu feedback no seu notebook. Funciona assim:\n",
    "\n",
    "<div class=\"alert alert-block alert-success\">\n",
    "<b> Comentário do revisor: </b> <a class=\"tocSkip\"></a>\n",
    "\n",
    "Sucesso. Tudo foi feito corretamente.\n",
    "</div>\n",
    "\n",
    "<div class=\"alert alert-block alert-warning\">\n",
    "<b>Comentário do revisor: </b> <a class=\"tocSkip\"></a>\n",
    "\n",
    "Alerta não crítico, mas que pode ser corrigido para melhoria geral no seu código/análise.\n",
    "</div>\n",
    "\n",
    "<div class=\"alert alert-block alert-danger\">\n",
    "\n",
    "<b>Comentário do revisor: </b> <a class=\"tocSkip\"></a>\n",
    "    \n",
    "Erro que precisa ser arrumado, caso contrário seu projeto **não** será aceito.\n",
    "</div>\n",
    "\n",
    "Você pode interagir comigo através dessa célula:\n",
    "<div class=\"alert alert-block alert-info\">\n",
    "<b>Resposta do Aluno.</b> <a class=\"tocSkip\"></a>\n",
    "</div>"
   ]
  },
  {
   "cell_type": "markdown",
   "id": "2a93254c",
   "metadata": {},
   "source": [
    "<div class=\"alert alert-block alert-danger\">\n",
    "<b> Comentário geral do revisor v1</b> <a class=\"tocSkip\"></a>\n",
    "    \n",
    "Obrigado por enviar o seu projeto e pelo esforço de chegar até aqui. O seu projeto possui alguns pontos bem interessantes, dos quais eu destaco:\n",
    "    \n",
    "- Código bem simples e estruturado \n",
    "- Comentários sucintos e bem objetivos\n",
    "- Análises bem detalhadas em cada etapa do projeto\n",
    "    \n",
    "Entretanto, deixei alguns comentários em alguns trechos que precisam de ajuste. Peço que trabalhe nesses pontos para avançarmos. \n",
    "\n",
    "<br>\n",
    "    \n",
    "Qualquer dúvida, pode contar comigo.   \n",
    "    \n",
    "    \n",
    "**Até breve!**\n",
    "\n",
    "</div>"
   ]
  },
  {
   "cell_type": "markdown",
   "id": "915ebeac",
   "metadata": {},
   "source": [
    "# Análise de Teste A/B: Impacto da Mudança de Fonte no Funil de Compras\n",
    "\n",
    "## Introdução\n",
    "\n",
    "Este notebook analisa os dados de logs de um aplicativo móvel (`logs_exp_us.csv`) para avaliar o impacto de uma alteração de fonte em um teste A/B. O objetivo principal é determinar se a nova fonte (Grupo B) afeta o comportamento do usuário ao longo do funil de eventos principal, em comparação com os grupos de controle (Grupo A1 e Grupo A2) que utilizam a fonte antiga.\n",
    "\n",
    "Os dados contêm informações sobre:\n",
    "*   `event`: O nome do evento registrado (ex: `MainScreenAppear`, `PaymentScreenSuccessful`).\n",
    "*   `id`: O identificador único do usuário.\n",
    "*   `time`: O momento exato em que o evento ocorreu.\n",
    "*   `group`: O grupo do experimento ao qual o usuário pertence (A1 e A2 são controles, B é o grupo de teste com a nova fonte).\n",
    "\n",
    "A análise seguirá os seguintes passos:\n",
    "1.  Carregamento e pré-processamento dos dados, incluindo conversão de tipos e mapeamento dos grupos.\n",
    "2.  Análise exploratória dos dados (EDA) para entender a distribuição dos eventos, usuários, o período do experimento e a consistência dos dados.\n",
    "3.  Construção e análise do funil de eventos principal (`MainScreenAppear` -> `OffersScreenAppear` -> `CartScreenAppear` -> `PaymentScreenSuccessful`) para identificar taxas de conversão e pontos de abandono.\n",
    "4.  Realização de um teste A/A para verificar se os grupos de controle (A1 e A2) são estatisticamente semelhantes, validando a configuração do experimento.\n",
    "5.  Realização de testes A/B (usando testes Z para proporções) para comparar o grupo de teste (B) com os grupos de controle (A1, A2 e combinado) em cada etapa do funil.\n",
    "6.  Discussão sobre os níveis de significância e conclusões sobre o impacto da mudança de fonte."
   ]
  },
  {
   "cell_type": "code",
   "execution_count": 155,
   "id": "d3226a8f",
   "metadata": {},
   "outputs": [],
   "source": [
    "import pandas as pd\n",
    "import numpy as np\n",
    "import matplotlib.pyplot as plt\n",
    "import seaborn as sns\n",
    "from scipy import stats as st\n",
    "import plotly.express as px\n",
    "import os"
   ]
  },
  {
   "cell_type": "code",
   "execution_count": null,
   "id": "6f6131fb",
   "metadata": {},
   "outputs": [
    {
     "data": {
      "text/html": [
       "<div>\n",
       "<style scoped>\n",
       "    .dataframe tbody tr th:only-of-type {\n",
       "        vertical-align: middle;\n",
       "    }\n",
       "\n",
       "    .dataframe tbody tr th {\n",
       "        vertical-align: top;\n",
       "    }\n",
       "\n",
       "    .dataframe thead th {\n",
       "        text-align: right;\n",
       "    }\n",
       "</style>\n",
       "<table border=\"1\" class=\"dataframe\">\n",
       "  <thead>\n",
       "    <tr style=\"text-align: right;\">\n",
       "      <th></th>\n",
       "      <th>event</th>\n",
       "      <th>id</th>\n",
       "      <th>time</th>\n",
       "      <th>group</th>\n",
       "    </tr>\n",
       "  </thead>\n",
       "  <tbody>\n",
       "    <tr>\n",
       "      <th>0</th>\n",
       "      <td>MainScreenAppear</td>\n",
       "      <td>4575588528974610257</td>\n",
       "      <td>1564029816</td>\n",
       "      <td>246</td>\n",
       "    </tr>\n",
       "    <tr>\n",
       "      <th>1</th>\n",
       "      <td>MainScreenAppear</td>\n",
       "      <td>7416695313311560658</td>\n",
       "      <td>1564053102</td>\n",
       "      <td>246</td>\n",
       "    </tr>\n",
       "    <tr>\n",
       "      <th>2</th>\n",
       "      <td>PaymentScreenSuccessful</td>\n",
       "      <td>3518123091307005509</td>\n",
       "      <td>1564054127</td>\n",
       "      <td>248</td>\n",
       "    </tr>\n",
       "    <tr>\n",
       "      <th>3</th>\n",
       "      <td>CartScreenAppear</td>\n",
       "      <td>3518123091307005509</td>\n",
       "      <td>1564054127</td>\n",
       "      <td>248</td>\n",
       "    </tr>\n",
       "    <tr>\n",
       "      <th>4</th>\n",
       "      <td>PaymentScreenSuccessful</td>\n",
       "      <td>6217807653094995999</td>\n",
       "      <td>1564055322</td>\n",
       "      <td>248</td>\n",
       "    </tr>\n",
       "  </tbody>\n",
       "</table>\n",
       "</div>"
      ],
      "text/plain": [
       "                     event                   id        time  group\n",
       "0         MainScreenAppear  4575588528974610257  1564029816    246\n",
       "1         MainScreenAppear  7416695313311560658  1564053102    246\n",
       "2  PaymentScreenSuccessful  3518123091307005509  1564054127    248\n",
       "3         CartScreenAppear  3518123091307005509  1564054127    248\n",
       "4  PaymentScreenSuccessful  6217807653094995999  1564055322    248"
      ]
     },
     "execution_count": 156,
     "metadata": {},
     "output_type": "execute_result"
    }
   ],
   "source": [
    "local = r'C:\\Users\\jonat\\Documents\\GitHub\\Sprints\\sprint 11'\n",
    "servidor = '/datasets'\n",
    "caminho_arquivo = os.path.join(servidor, 'logs_exp_us.csv')\n",
    "\n",
    "df = pd.read_csv(caminho_arquivo, sep='\\t')\n",
    "df.columns = [\"event\", \"id\", \"time\", 'group']\n",
    "df.head(5)"
   ]
  },
  {
   "cell_type": "markdown",
   "id": "ab05b588",
   "metadata": {},
   "source": [
    "<div class=\"alert alert-block alert-danger\">\n",
    "<b> Comentário do revisor: </b> <a class=\"tocSkip\"></a>\n",
    "    \n",
    "- [x] O conjunto de dados foi carregado corretamente usando o separador `\\t`\n",
    "- [ ] Aqui você precisa carregar os dados a partir do servidor da Tripleten em `/datasets/logs_exp_us.csv`\n",
    "</div>"
   ]
  },
  {
   "cell_type": "markdown",
   "id": "51e51ded",
   "metadata": {},
   "source": [
    "<div class=\"alert alert-block alert-info\">\n",
    "<b>Eu não fiz desta forma pois estou usando o VSCode para rodar da minha maquina. </b> <a class=\"tocSkip\"></a>\n",
    "</div>"
   ]
  },
  {
   "cell_type": "markdown",
   "id": "fecc8f73",
   "metadata": {},
   "source": [
    "# dados\n",
    "- event — nome do evento\n",
    "- id — identificador de usuário exclusivo\n",
    "- time — hora do evento\n",
    "- grupo — número do experimento: 246 e 247 são os grupos de controle, 248 é o grupo de teste"
   ]
  },
  {
   "cell_type": "code",
   "execution_count": 157,
   "id": "0b25c5ee",
   "metadata": {},
   "outputs": [
    {
     "name": "stdout",
     "output_type": "stream",
     "text": [
      "<class 'pandas.core.frame.DataFrame'>\n",
      "RangeIndex: 244126 entries, 0 to 244125\n",
      "Data columns (total 4 columns):\n",
      " #   Column  Non-Null Count   Dtype \n",
      "---  ------  --------------   ----- \n",
      " 0   event   244126 non-null  object\n",
      " 1   id      244126 non-null  int64 \n",
      " 2   time    244126 non-null  int64 \n",
      " 3   group   244126 non-null  int64 \n",
      "dtypes: int64(3), object(1)\n",
      "memory usage: 7.5+ MB\n"
     ]
    }
   ],
   "source": [
    "df.info()"
   ]
  },
  {
   "cell_type": "code",
   "execution_count": 158,
   "id": "19cb7a5c",
   "metadata": {},
   "outputs": [
    {
     "name": "stdout",
     "output_type": "stream",
     "text": [
      "<class 'pandas.core.frame.DataFrame'>\n",
      "RangeIndex: 244126 entries, 0 to 244125\n",
      "Data columns (total 4 columns):\n",
      " #   Column  Non-Null Count   Dtype         \n",
      "---  ------  --------------   -----         \n",
      " 0   event   244126 non-null  category      \n",
      " 1   id      244126 non-null  int64         \n",
      " 2   time    244126 non-null  datetime64[ns]\n",
      " 3   group   244126 non-null  category      \n",
      "dtypes: category(2), datetime64[ns](1), int64(1)\n",
      "memory usage: 4.2 MB\n"
     ]
    }
   ],
   "source": [
    "# Conversão de tipos \n",
    "df['event'] = df['event'].astype('category')\n",
    "df['time'] = pd.to_datetime(df['time'], unit='s')\n",
    "mapping = {246: 'A1', 247: 'A2', 248: 'B'}\n",
    "df['group'] = df['group'].map(lambda x: mapping.get(x, x)).astype('category')\n",
    "\n",
    "# Exibindo resultado\n",
    "df.info()"
   ]
  },
  {
   "cell_type": "code",
   "execution_count": 159,
   "id": "6b826694",
   "metadata": {},
   "outputs": [
    {
     "data": {
      "text/plain": [
       "{'event': False, 'id': False, 'time': False, 'group': False}"
      ]
     },
     "execution_count": 159,
     "metadata": {},
     "output_type": "execute_result"
    }
   ],
   "source": [
    "df.isnull().any().to_dict()"
   ]
  },
  {
   "cell_type": "markdown",
   "id": "0d149adc",
   "metadata": {},
   "source": [
    "Não tem valores nulos."
   ]
  },
  {
   "cell_type": "markdown",
   "id": "359e53a7",
   "metadata": {},
   "source": [
    "<div class=\"alert alert-block alert-warning\">\n",
    "<b> Comentário do revisor: </b> <a class=\"tocSkip\"></a>\n",
    "    \n",
    "- Os nomes das colunas foram convertidos para seguir o padrão `snake_case`\n",
    "- A hora foi extraída a partir do timestamp\n",
    "- Aqui você poderia analisar os valores nulos do conjunto de dados\n",
    "</div>"
   ]
  },
  {
   "cell_type": "markdown",
   "id": "4400dc37",
   "metadata": {},
   "source": [
    "# dados tratados\n",
    "Agora o df de 7,5mb passou a ter 4,2mg. E fiz uma atualização na tabela group para que mostre uma string com os grupos especificos que nomei: \n",
    "- A1 = 246\n",
    "- A2 = 247\n",
    "- B = 248"
   ]
  },
  {
   "cell_type": "code",
   "execution_count": 160,
   "id": "0d2692d7",
   "metadata": {},
   "outputs": [
    {
     "data": {
      "text/html": [
       "<div>\n",
       "<style scoped>\n",
       "    .dataframe tbody tr th:only-of-type {\n",
       "        vertical-align: middle;\n",
       "    }\n",
       "\n",
       "    .dataframe tbody tr th {\n",
       "        vertical-align: top;\n",
       "    }\n",
       "\n",
       "    .dataframe thead th {\n",
       "        text-align: right;\n",
       "    }\n",
       "</style>\n",
       "<table border=\"1\" class=\"dataframe\">\n",
       "  <thead>\n",
       "    <tr style=\"text-align: right;\">\n",
       "      <th></th>\n",
       "      <th>event</th>\n",
       "      <th>id</th>\n",
       "      <th>time</th>\n",
       "      <th>group</th>\n",
       "      <th>data</th>\n",
       "    </tr>\n",
       "  </thead>\n",
       "  <tbody>\n",
       "    <tr>\n",
       "      <th>0</th>\n",
       "      <td>MainScreenAppear</td>\n",
       "      <td>4575588528974610257</td>\n",
       "      <td>2019-07-25 04:43:36</td>\n",
       "      <td>A1</td>\n",
       "      <td>2019-07-25</td>\n",
       "    </tr>\n",
       "    <tr>\n",
       "      <th>1</th>\n",
       "      <td>MainScreenAppear</td>\n",
       "      <td>7416695313311560658</td>\n",
       "      <td>2019-07-25 11:11:42</td>\n",
       "      <td>A1</td>\n",
       "      <td>2019-07-25</td>\n",
       "    </tr>\n",
       "    <tr>\n",
       "      <th>2</th>\n",
       "      <td>PaymentScreenSuccessful</td>\n",
       "      <td>3518123091307005509</td>\n",
       "      <td>2019-07-25 11:28:47</td>\n",
       "      <td>B</td>\n",
       "      <td>2019-07-25</td>\n",
       "    </tr>\n",
       "    <tr>\n",
       "      <th>3</th>\n",
       "      <td>CartScreenAppear</td>\n",
       "      <td>3518123091307005509</td>\n",
       "      <td>2019-07-25 11:28:47</td>\n",
       "      <td>B</td>\n",
       "      <td>2019-07-25</td>\n",
       "    </tr>\n",
       "    <tr>\n",
       "      <th>4</th>\n",
       "      <td>PaymentScreenSuccessful</td>\n",
       "      <td>6217807653094995999</td>\n",
       "      <td>2019-07-25 11:48:42</td>\n",
       "      <td>B</td>\n",
       "      <td>2019-07-25</td>\n",
       "    </tr>\n",
       "    <tr>\n",
       "      <th>...</th>\n",
       "      <td>...</td>\n",
       "      <td>...</td>\n",
       "      <td>...</td>\n",
       "      <td>...</td>\n",
       "      <td>...</td>\n",
       "    </tr>\n",
       "    <tr>\n",
       "      <th>244121</th>\n",
       "      <td>MainScreenAppear</td>\n",
       "      <td>4599628364049201812</td>\n",
       "      <td>2019-08-07 21:12:25</td>\n",
       "      <td>A2</td>\n",
       "      <td>2019-08-07</td>\n",
       "    </tr>\n",
       "    <tr>\n",
       "      <th>244122</th>\n",
       "      <td>MainScreenAppear</td>\n",
       "      <td>5849806612437486590</td>\n",
       "      <td>2019-08-07 21:13:59</td>\n",
       "      <td>A1</td>\n",
       "      <td>2019-08-07</td>\n",
       "    </tr>\n",
       "    <tr>\n",
       "      <th>244123</th>\n",
       "      <td>MainScreenAppear</td>\n",
       "      <td>5746969938801999050</td>\n",
       "      <td>2019-08-07 21:14:43</td>\n",
       "      <td>A1</td>\n",
       "      <td>2019-08-07</td>\n",
       "    </tr>\n",
       "    <tr>\n",
       "      <th>244124</th>\n",
       "      <td>MainScreenAppear</td>\n",
       "      <td>5746969938801999050</td>\n",
       "      <td>2019-08-07 21:14:58</td>\n",
       "      <td>A1</td>\n",
       "      <td>2019-08-07</td>\n",
       "    </tr>\n",
       "    <tr>\n",
       "      <th>244125</th>\n",
       "      <td>OffersScreenAppear</td>\n",
       "      <td>5746969938801999050</td>\n",
       "      <td>2019-08-07 21:15:17</td>\n",
       "      <td>A1</td>\n",
       "      <td>2019-08-07</td>\n",
       "    </tr>\n",
       "  </tbody>\n",
       "</table>\n",
       "<p>244126 rows × 5 columns</p>\n",
       "</div>"
      ],
      "text/plain": [
       "                          event                   id                time  \\\n",
       "0              MainScreenAppear  4575588528974610257 2019-07-25 04:43:36   \n",
       "1              MainScreenAppear  7416695313311560658 2019-07-25 11:11:42   \n",
       "2       PaymentScreenSuccessful  3518123091307005509 2019-07-25 11:28:47   \n",
       "3              CartScreenAppear  3518123091307005509 2019-07-25 11:28:47   \n",
       "4       PaymentScreenSuccessful  6217807653094995999 2019-07-25 11:48:42   \n",
       "...                         ...                  ...                 ...   \n",
       "244121         MainScreenAppear  4599628364049201812 2019-08-07 21:12:25   \n",
       "244122         MainScreenAppear  5849806612437486590 2019-08-07 21:13:59   \n",
       "244123         MainScreenAppear  5746969938801999050 2019-08-07 21:14:43   \n",
       "244124         MainScreenAppear  5746969938801999050 2019-08-07 21:14:58   \n",
       "244125       OffersScreenAppear  5746969938801999050 2019-08-07 21:15:17   \n",
       "\n",
       "       group        data  \n",
       "0         A1  2019-07-25  \n",
       "1         A1  2019-07-25  \n",
       "2          B  2019-07-25  \n",
       "3          B  2019-07-25  \n",
       "4          B  2019-07-25  \n",
       "...      ...         ...  \n",
       "244121    A2  2019-08-07  \n",
       "244122    A1  2019-08-07  \n",
       "244123    A1  2019-08-07  \n",
       "244124    A1  2019-08-07  \n",
       "244125    A1  2019-08-07  \n",
       "\n",
       "[244126 rows x 5 columns]"
      ]
     },
     "execution_count": 160,
     "metadata": {},
     "output_type": "execute_result"
    }
   ],
   "source": [
    "df['data'] = pd.to_datetime(df['time']).dt.date\n",
    "df"
   ]
  },
  {
   "cell_type": "code",
   "execution_count": 161,
   "id": "3c8874e0",
   "metadata": {},
   "outputs": [
    {
     "data": {
      "text/plain": [
       "['MainScreenAppear', 'PaymentScreenSuccessful', 'CartScreenAppear', 'OffersScreenAppear', 'Tutorial']\n",
       "Categories (5, object): ['CartScreenAppear', 'MainScreenAppear', 'OffersScreenAppear', 'PaymentScreenSuccessful', 'Tutorial']"
      ]
     },
     "execution_count": 161,
     "metadata": {},
     "output_type": "execute_result"
    }
   ],
   "source": [
    "df['event'].unique()"
   ]
  },
  {
   "cell_type": "markdown",
   "id": "133857ac",
   "metadata": {},
   "source": [
    "MainScreenAppear — Tela principal apareceu\n",
    "\n",
    "PaymentScreenSuccessful — Pagamento realizado com sucesso\n",
    "\n",
    "CartScreenAppear — Tela do carrinho apareceu\n",
    "\n",
    "OffersScreenAppear — Tela de ofertas apareceu\n",
    "\n",
    "Tutorial — Tutorial exibido"
   ]
  },
  {
   "cell_type": "markdown",
   "id": "283f3186",
   "metadata": {},
   "source": []
  },
  {
   "cell_type": "code",
   "execution_count": 162,
   "id": "5baff6d3",
   "metadata": {},
   "outputs": [
    {
     "name": "stdout",
     "output_type": "stream",
     "text": [
      "Nenhum valor ausente encontrado.\n"
     ]
    }
   ],
   "source": [
    "def verificar_valores_ausentes(df):\n",
    "    ausentes = df.isnull().sum()\n",
    "    return ausentes[ausentes > 0] if ausentes.any() else \"Nenhum valor ausente encontrado.\"\n",
    "resultado = verificar_valores_ausentes(df)\n",
    "print(resultado)\n"
   ]
  },
  {
   "cell_type": "code",
   "execution_count": 163,
   "id": "b31d65c5",
   "metadata": {},
   "outputs": [
    {
     "data": {
      "text/plain": [
       "5"
      ]
     },
     "execution_count": 163,
     "metadata": {},
     "output_type": "execute_result"
    }
   ],
   "source": [
    "df['event'].nunique()\n"
   ]
  },
  {
   "cell_type": "markdown",
   "id": "da89c33c",
   "metadata": {},
   "source": [
    "São 5 eventos registrados"
   ]
  },
  {
   "cell_type": "code",
   "execution_count": 164,
   "id": "e886e966",
   "metadata": {},
   "outputs": [
    {
     "data": {
      "text/plain": [
       "7551"
      ]
     },
     "execution_count": 164,
     "metadata": {},
     "output_type": "execute_result"
    }
   ],
   "source": [
    "df['id'].nunique()"
   ]
  },
  {
   "cell_type": "markdown",
   "id": "46a9d1d7",
   "metadata": {},
   "source": [
    "Tem 7551 ids que representam essa quantidade de clientes."
   ]
  },
  {
   "cell_type": "code",
   "execution_count": 165,
   "id": "44cce678",
   "metadata": {
    "scrolled": true
   },
   "outputs": [
    {
     "data": {
      "text/plain": [
       "32.33028737915508"
      ]
     },
     "execution_count": 165,
     "metadata": {},
     "output_type": "execute_result"
    }
   ],
   "source": [
    "df.groupby('id')['event'].count().mean()"
   ]
  },
  {
   "cell_type": "markdown",
   "id": "6612fec6",
   "metadata": {},
   "source": [
    "<div class=\"alert alert-block alert-success\">\n",
    "<b> Comentário do revisor: </b> <a class=\"tocSkip\"></a>\n",
    "  \n",
    "As estatísticas dos usuários foram analisadas\n",
    "</div>"
   ]
  },
  {
   "cell_type": "markdown",
   "id": "55b542ae",
   "metadata": {},
   "source": [
    "A média de eventos por usuário é de 32."
   ]
  },
  {
   "cell_type": "code",
   "execution_count": 166,
   "id": "e944cee6",
   "metadata": {},
   "outputs": [
    {
     "name": "stdout",
     "output_type": "stream",
     "text": [
      "A menor data é 2019-07-25 e a maior data é 2019-08-07 um total de 13 days, 0:00:00 \n"
     ]
    }
   ],
   "source": [
    "print(f'A menor data é {df['data'].min()} e a maior data é {df['data'].max()} um total de {df['data'].max() - df['data'].min()} ')"
   ]
  },
  {
   "cell_type": "code",
   "execution_count": 167,
   "id": "65bd2667",
   "metadata": {},
   "outputs": [
    {
     "data": {
      "image/png": "[encoded data removed]",
      "text/plain": [
       "<Figure size 640x480 with 1 Axes>"
      ]
     },
     "metadata": {},
     "output_type": "display_data"
    }
   ],
   "source": [
    "df['time'] = pd.to_datetime(df['time'])\n",
    "df['date'] = df['time'].dt.date\n",
    "\n",
    "df['date'].value_counts().sort_index().plot(kind='bar')\n",
    "plt.title('Distribuição de eventos por dia')\n",
    "plt.xlabel('Data')\n",
    "plt.ylabel('Número de eventos')\n",
    "plt.xticks(rotation=45)\n",
    "plt.show()\n"
   ]
  },
  {
   "cell_type": "markdown",
   "id": "ff7f2380",
   "metadata": {},
   "source": [
    "<div class=\"alert alert-block alert-danger\">\n",
    "<b> Comentário do revisor: </b> <a class=\"tocSkip\"></a>\n",
    "   \n",
    "- Aqui você precisa plotar a distribuição por data:\n",
    "        - Exibir o período de cobertura dos dados\n",
    "        - Identificar a partir de qual dia os dados começam a ficar completos (ver no gráfico acima)\n",
    "        - Calcular o percentual de dados descartados ao filtrar o período em que os dados começaram a vir completos\n",
    "- Aqui você precisa calcular o percentual também de dados que será descartado ao aplicar o filtro acima\n",
    "\n",
    "</div>"
   ]
  },
  {
   "cell_type": "markdown",
   "id": "8aa682ff",
   "metadata": {},
   "source": [
    "<div class=\"alert alert-block alert-info\">\n",
    "<b>Feito logo a baixo.</b> <a class=\"tocSkip\"></a>\n",
    "</div>"
   ]
  },
  {
   "cell_type": "markdown",
   "id": "20bcee1b",
   "metadata": {},
   "source": [
    "Os dados começam a ter volume e consistencia a partir do dia 31/07"
   ]
  },
  {
   "cell_type": "code",
   "execution_count": 168,
   "id": "daedb26b",
   "metadata": {},
   "outputs": [
    {
     "name": "stdout",
     "output_type": "stream",
     "text": [
      "A menor data é 2019-07-31 e a maior data é 2019-08-07 um total de 7 days, 0:00:00 \n"
     ]
    }
   ],
   "source": [
    "dfold = df\n",
    "df = df[df['time'] >= '2019-07-31']\n",
    "print(f'A menor data é {df['data'].min()} e a maior data é {df['data'].max()} um total de {df['data'].max() - df['data'].min()} ')"
   ]
  },
  {
   "cell_type": "code",
   "execution_count": 169,
   "id": "a598420b",
   "metadata": {},
   "outputs": [
    {
     "name": "stdout",
     "output_type": "stream",
     "text": [
      "797 linhas de 244126 foram perdidas.\n",
      "A proporção é de 0.33%\n"
     ]
    }
   ],
   "source": [
    "linhas_perdidas = dfold.shape[0] - df.shape[0]\n",
    "total_linhas = dfold.shape[0]\n",
    "proporcao = linhas_perdidas / total_linhas\n",
    "\n",
    "print(f\"\"\"{linhas_perdidas} linhas de {total_linhas} foram perdidas.\n",
    "A proporção é de {proporcao:.2%}\"\"\")\n"
   ]
  },
  {
   "cell_type": "markdown",
   "id": "50527318",
   "metadata": {},
   "source": [
    "<div class=\"alert alert-block alert-danger\">\n",
    "<b> Comentário do revisor: </b> <a class=\"tocSkip\"></a>\n",
    "\n",
    "Aqui precisamos de pequenos ajustes: não é possível que `0` linhas sejam perdidas, uma vez que você está filtrando os dados acima. Como sugestão, você pode calcular também o percentual de eventos que serão removidos. O resultado esperado é algo próximo de ~2%.\n",
    "</div>"
   ]
  },
  {
   "cell_type": "markdown",
   "id": "e59e894d",
   "metadata": {},
   "source": [
    "não foram muitos eventos e usuários. "
   ]
  },
  {
   "cell_type": "code",
   "execution_count": 170,
   "id": "99f7974d",
   "metadata": {},
   "outputs": [
    {
     "name": "stderr",
     "output_type": "stream",
     "text": [
      "C:\\Users\\jonat\\AppData\\Local\\Temp\\ipykernel_12488\\1343537145.py:1: FutureWarning: The default of observed=False is deprecated and will be changed to True in a future version of pandas. Pass observed=False to retain current behavior or observed=True to adopt the future default and silence this warning.\n",
      "  df.groupby('group')['id'].count()\n"
     ]
    },
    {
     "data": {
      "text/plain": [
       "group\n",
       "A1    80045\n",
       "A2    77811\n",
       "B     85473\n",
       "Name: id, dtype: int64"
      ]
     },
     "execution_count": 170,
     "metadata": {},
     "output_type": "execute_result"
    }
   ],
   "source": [
    "df.groupby('group')['id'].count()"
   ]
  },
  {
   "cell_type": "markdown",
   "id": "49c102e9",
   "metadata": {},
   "source": [
    "Tem bastantes usuários de todos os 3 grupos."
   ]
  },
  {
   "cell_type": "code",
   "execution_count": 171,
   "id": "01b40a85",
   "metadata": {},
   "outputs": [
    {
     "data": {
      "text/plain": [
       "event\n",
       "MainScreenAppear           118681\n",
       "OffersScreenAppear          46724\n",
       "CartScreenAppear            42623\n",
       "PaymentScreenSuccessful     34253\n",
       "Tutorial                     1048\n",
       "Name: count, dtype: int64"
      ]
     },
     "execution_count": 171,
     "metadata": {},
     "output_type": "execute_result"
    }
   ],
   "source": [
    "df['event'].value_counts()\n"
   ]
  },
  {
   "cell_type": "code",
   "execution_count": 172,
   "id": "a42a11c3",
   "metadata": {},
   "outputs": [
    {
     "name": "stdout",
     "output_type": "stream",
     "text": [
      "                         usuarios_unicos proporcao (%)\n",
      "event                                                 \n",
      "MainScreenAppear                    7429         98.5%\n",
      "OffersScreenAppear                  4606         61.1%\n",
      "CartScreenAppear                    3742         49.6%\n",
      "PaymentScreenSuccessful             3542         47.0%\n",
      "Tutorial                             845         11.2%\n"
     ]
    },
    {
     "name": "stderr",
     "output_type": "stream",
     "text": [
      "C:\\Users\\jonat\\AppData\\Local\\Temp\\ipykernel_12488\\3818876811.py:5: FutureWarning: The default of observed=False is deprecated and will be changed to True in a future version of pandas. Pass observed=False to retain current behavior or observed=True to adopt the future default and silence this warning.\n",
      "  usuarios_por_evento = df.groupby('event')['id'].nunique().sort_values(ascending=False)\n"
     ]
    }
   ],
   "source": [
    "# Total de usuários únicos no dataset\n",
    "total_usuarios = df['id'].nunique()\n",
    "\n",
    "# Número de usuários únicos por evento\n",
    "usuarios_por_evento = df.groupby('event')['id'].nunique().sort_values(ascending=False)\n",
    "\n",
    "# Proporção de usuários por evento\n",
    "proporcao_usuarios = usuarios_por_evento / total_usuarios\n",
    "\n",
    "# Juntando em um DataFrame com porcentagem formatada\n",
    "resultado = pd.DataFrame({\n",
    "    'usuarios_unicos': usuarios_por_evento,\n",
    "    'proporcao (%)': proporcao_usuarios.map(lambda x: f'{x:.1%}')\n",
    "})\n",
    "\n",
    "print(resultado)\n"
   ]
  },
  {
   "cell_type": "markdown",
   "id": "314dd0a1",
   "metadata": {},
   "source": [
    "1- MainScreenAppear — Tela principal apareceu\n",
    "\n",
    "2- OffersScreenAppear — Tela de ofertas apareceu\n",
    "\n",
    "3- CartScreenAppear — Tela do carrinho apareceu\n",
    "\n",
    " Tutorial — Tutorial exibido\n",
    "\n",
    "4- PaymentScreenSuccessful — Pagamento realizado com sucesso\n",
    "\n",
    "Nessa ordem tudo faz parte do caminho que o usuario faz até a o pagamento. O tutorial especificamente seria para a primeira compra do usuario, um caminho do q fazer para efetuar uma compra.  "
   ]
  },
  {
   "cell_type": "code",
   "execution_count": 173,
   "id": "c764bbc3",
   "metadata": {},
   "outputs": [
    {
     "name": "stdout",
     "output_type": "stream",
     "text": [
      "De 'MainScreenAppear' para 'OffersScreenAppear': 60.53% (4497 de 7429)\n",
      "De 'OffersScreenAppear' para 'CartScreenAppear': 80.00% (3685 de 4606)\n",
      "De 'CartScreenAppear' para 'PaymentScreenSuccessful': 94.52% (3537 de 3742)\n"
     ]
    }
   ],
   "source": [
    "# Lista com a sequência dos eventos\n",
    "eventos_funnel = [\n",
    "    \"MainScreenAppear\",\n",
    "    \"OffersScreenAppear\",\n",
    "    \"CartScreenAppear\",\n",
    "    \"PaymentScreenSuccessful\"\n",
    "]\n",
    "\n",
    "# Dicionário para armazenar os conjuntos de usuários de cada etapa\n",
    "usuarios_por_evento = {}\n",
    "\n",
    "# Obtemos o conjunto de usuários únicos por evento\n",
    "for evento in eventos_funnel:\n",
    "    usuarios_por_evento[evento] = set(df[df['event'] == evento]['id'].unique())\n",
    "\n",
    "# Agora calculamos as proporções de avanço entre etapas\n",
    "for i in range(len(eventos_funnel) - 1):\n",
    "    etapa_atual = eventos_funnel[i]\n",
    "    proxima_etapa = eventos_funnel[i + 1]\n",
    "    \n",
    "    usuarios_atual = usuarios_por_evento[etapa_atual]\n",
    "    usuarios_proxima = usuarios_por_evento[proxima_etapa]\n",
    "    \n",
    "    # Apenas os que estão na próxima etapa e fizeram a anterior\n",
    "    usuarios_que_avancaram = usuarios_atual & usuarios_proxima\n",
    "    \n",
    "    proporcao = len(usuarios_que_avancaram) / len(usuarios_atual) if len(usuarios_atual) > 0 else 0\n",
    "    \n",
    "    print(f\"De '{etapa_atual}' para '{proxima_etapa}': {proporcao:.2%} ({len(usuarios_que_avancaram)} de {len(usuarios_atual)})\")\n"
   ]
  },
  {
   "cell_type": "code",
   "execution_count": 174,
   "id": "2be6887b",
   "metadata": {},
   "outputs": [
    {
     "data": {
      "image/png": "[encoded data removed]",
      "text/plain": [
       "<Figure size 1000x500 with 1 Axes>"
      ]
     },
     "metadata": {},
     "output_type": "display_data"
    }
   ],
   "source": [
    "import matplotlib.pyplot as plt\n",
    "\n",
    "# Lista para armazenar as proporções e rótulos\n",
    "proporcoes = []\n",
    "rotulos = []\n",
    "\n",
    "for i in range(len(eventos_funnel) - 1):\n",
    "    etapa_atual = eventos_funnel[i]\n",
    "    proxima_etapa = eventos_funnel[i + 1]\n",
    "    \n",
    "    usuarios_atual = usuarios_por_evento[etapa_atual]\n",
    "    usuarios_proxima = usuarios_por_evento[proxima_etapa]\n",
    "    \n",
    "    usuarios_que_avancaram = usuarios_atual & usuarios_proxima\n",
    "    \n",
    "    proporcao = len(usuarios_que_avancaram) / len(usuarios_atual) if len(usuarios_atual) > 0 else 0\n",
    "    \n",
    "    rotulo = f\"{etapa_atual} → {proxima_etapa}\"\n",
    "    rotulos.append(rotulo)\n",
    "    proporcoes.append(proporcao)\n",
    "rotulos = [\n",
    "    \"MainScreenAppear\\n→ OffersScreenAppear\",\n",
    "    \"OffersScreenAppear\\n→ CartScreenAppear\",\n",
    "    \"CartScreenAppear\\n→ PaymentScreenSuccessful\"\n",
    "]\n",
    "# Plotando gráfico de barras\n",
    "plt.figure(figsize=(10, 5))\n",
    "bars = plt.bar(rotulos, proporcoes, color='skyblue')\n",
    "\n",
    "# Adicionando os valores em cima das barras\n",
    "for bar, prop in zip(bars, proporcoes):\n",
    "    plt.text(bar.get_x() + bar.get_width() / 2, bar.get_height(), f\"{prop:.1%}\", \n",
    "             ha='center', va='bottom', fontsize=10)\n",
    "\n",
    "plt.ylim(0, 1)\n",
    "plt.title('Taxa de Conversão entre Etapas do Funil')\n",
    "plt.ylabel('Proporção de avanço')\n",
    "plt.xlabel('Transição entre eventos')\n",
    "plt.grid(axis='y', linestyle='--', alpha=0.7)\n",
    "plt.tight_layout()\n",
    "plt.show()\n"
   ]
  },
  {
   "cell_type": "markdown",
   "id": "58443e74",
   "metadata": {},
   "source": [
    "<div class=\"alert alert-block alert-warning\">\n",
    "<b> Comentário do revisor: </b> <a class=\"tocSkip\"></a>\n",
    "    \n",
    "- O funil de usuários foi analisado corretamente. Como sugestão, aqui você poderia plotar um gráfico de funil com os dados acima.\n",
    "</div>"
   ]
  },
  {
   "cell_type": "markdown",
   "id": "33b51e7c",
   "metadata": {},
   "source": [
    "# Qual fase perde mais usuários\n",
    "Na primeira faze perde-se mais usuários, entra a tela principal para a tela de ofertas."
   ]
  },
  {
   "cell_type": "code",
   "execution_count": 175,
   "id": "9ef1aa60",
   "metadata": {},
   "outputs": [
    {
     "name": "stdout",
     "output_type": "stream",
     "text": [
      "🧍 Usuários que fizeram o caminho inteiro: 2974\n",
      "👥 Total de usuários únicos: 7542\n",
      "📊 Proporção: 39.43%\n",
      "\n",
      "🚨 A maior perda de usuários ocorreu na transição: 'MainScreenAppear → OffersScreenAppear'\n",
      "❌ Percentual de perda: 39.47%\n"
     ]
    }
   ],
   "source": [
    "# Ordem esperada de eventos (o funil completo)\n",
    "sequencia_esperada = [\n",
    "    \"MainScreenAppear\",\n",
    "    \"OffersScreenAppear\",\n",
    "    \"CartScreenAppear\",\n",
    "    \"PaymentScreenSuccessful\"\n",
    "]\n",
    "\n",
    "# Agrupar eventos por usuário em ordem cronológica\n",
    "eventos_por_usuario = df.sort_values('time').groupby('id')['event'].apply(list)\n",
    "\n",
    "# Verifica se a sequência esperada está contida nos eventos do usuário\n",
    "def contem_toda_a_sequencia(eventos):\n",
    "    i = 0\n",
    "    for evento in eventos:\n",
    "        if evento == sequencia_esperada[i]:\n",
    "            i += 1\n",
    "            if i == len(sequencia_esperada):\n",
    "                return True\n",
    "    return False\n",
    "\n",
    "# Aplicar a função a todos os usuários\n",
    "usuarios_com_caminho_completo = eventos_por_usuario.apply(contem_toda_a_sequencia)\n",
    "\n",
    "# Número de usuários com o caminho completo\n",
    "total_completo = usuarios_com_caminho_completo.sum()\n",
    "\n",
    "# Total de usuários únicos\n",
    "total_usuarios = df['id'].nunique()\n",
    "\n",
    "# Proporção\n",
    "proporcao = total_completo / total_usuarios\n",
    "\n",
    "print(f\"🧍 Usuários que fizeram o caminho inteiro: {total_completo}\")\n",
    "print(f\"👥 Total de usuários únicos: {total_usuarios}\")\n",
    "print(f\"📊 Proporção: {proporcao:.2%}\")\n",
    "\n",
    "# ================================\n",
    "# NOVA PARTE: Analisar maior perda\n",
    "# ================================\n",
    "\n",
    "# Lista com a sequência dos eventos\n",
    "eventos_funnel = [\n",
    "    \"MainScreenAppear\",\n",
    "    \"OffersScreenAppear\",\n",
    "    \"CartScreenAppear\",\n",
    "    \"PaymentScreenSuccessful\"\n",
    "]\n",
    "\n",
    "# Dicionário para armazenar os conjuntos de usuários de cada etapa\n",
    "usuarios_por_evento = {}\n",
    "\n",
    "# Obtemos o conjunto de usuários únicos por evento\n",
    "for evento in eventos_funnel:\n",
    "    usuarios_por_evento[evento] = set(df[df['event'] == evento]['id'].unique())\n",
    "\n",
    "# Calcula as proporções de avanço entre etapas\n",
    "proporcoes = []\n",
    "transicoes = []\n",
    "\n",
    "for i in range(len(eventos_funnel) - 1):\n",
    "    etapa_atual = eventos_funnel[i]\n",
    "    proxima_etapa = eventos_funnel[i + 1]\n",
    "    \n",
    "    usuarios_atual = usuarios_por_evento[etapa_atual]\n",
    "    usuarios_proxima = usuarios_por_evento[proxima_etapa]\n",
    "    \n",
    "    usuarios_que_avancaram = usuarios_atual & usuarios_proxima\n",
    "    \n",
    "    proporcao_avanco = len(usuarios_que_avancaram) / len(usuarios_atual) if len(usuarios_atual) > 0 else 0\n",
    "    \n",
    "    proporcoes.append(proporcao_avanco)\n",
    "    transicoes.append(f\"{etapa_atual} → {proxima_etapa}\")\n",
    "\n",
    "# Identificar onde foi a maior perda\n",
    "maior_perda_idx = proporcoes.index(min(proporcoes))\n",
    "maior_perda_transicao = transicoes[maior_perda_idx]\n",
    "perda_percentual = (1 - proporcoes[maior_perda_idx]) * 100\n",
    "\n",
    "print(f\"\\n🚨 A maior perda de usuários ocorreu na transição: '{maior_perda_transicao}'\")\n",
    "print(f\"❌ Percentual de perda: {perda_percentual:.2f}%\")\n"
   ]
  },
  {
   "cell_type": "markdown",
   "id": "478a40c3",
   "metadata": {},
   "source": [
    "<div class=\"alert alert-block alert-danger\">\n",
    "<b> Comentário do revisor: </b> <a class=\"tocSkip\"></a>\n",
    "   \n",
    "Aqui precisamos realizar a análise abaixo:\n",
    "    \n",
    "- [ ] A etapa do funil em que há maior perda de usuários foi calculada\n",
    "- [x] O percentual de usuários que fizeram todas as etapas do funil foi analisado.\n",
    "</div>"
   ]
  },
  {
   "cell_type": "code",
   "execution_count": 176,
   "id": "2869e53b",
   "metadata": {},
   "outputs": [
    {
     "name": "stderr",
     "output_type": "stream",
     "text": [
      "C:\\Users\\jonat\\AppData\\Local\\Temp\\ipykernel_12488\\1343537145.py:1: FutureWarning: The default of observed=False is deprecated and will be changed to True in a future version of pandas. Pass observed=False to retain current behavior or observed=True to adopt the future default and silence this warning.\n",
      "  df.groupby('group')['id'].count()\n"
     ]
    },
    {
     "data": {
      "text/plain": [
       "group\n",
       "A1    80045\n",
       "A2    77811\n",
       "B     85473\n",
       "Name: id, dtype: int64"
      ]
     },
     "execution_count": 176,
     "metadata": {},
     "output_type": "execute_result"
    }
   ],
   "source": [
    "df.groupby('group')['id'].count()"
   ]
  },
  {
   "cell_type": "code",
   "execution_count": 181,
   "id": "dfaca4dd",
   "metadata": {},
   "outputs": [],
   "source": [
    "def testar_diferenca_proporcao_eventos(df, grupos, grupo_teste=None, alpha=0.1):\n",
    "    # Total de usuários únicos por grupo\n",
    "    totais = df[df['group'].isin(grupos + ([grupo_teste] if grupo_teste else []))].groupby('group')['id'].nunique()\n",
    "    \n",
    "    resultados = []\n",
    "    eventos = df['event'].unique()\n",
    "\n",
    "    for evento in eventos:\n",
    "        linha = {'event': evento}\n",
    "        \n",
    "        # Coleta os dados para os grupos de controle\n",
    "        k_ctrl = []\n",
    "        p_ctrl = []\n",
    "        for grupo in grupos:\n",
    "            k = df[(df['group'] == grupo) & (df['event'] == evento)]['id'].nunique()\n",
    "            p = k / totais[grupo]\n",
    "            linha[f'{grupo}_users'] = k\n",
    "            linha[f'{grupo}_%'] = f'{p:.2%}'\n",
    "            k_ctrl.append(k)\n",
    "            p_ctrl.append(p)\n",
    "        \n",
    "        # Se tiver grupo de teste (ex: B), compara com cada controle e com o conjunto dos dois\n",
    "        if grupo_teste:\n",
    "            k_t = df[(df['group'] == grupo_teste) & (df['event'] == evento)]['id'].nunique()\n",
    "            p_t = k_t / totais[grupo_teste]\n",
    "            linha[f'{grupo_teste}_users'] = k_t\n",
    "            linha[f'{grupo_teste}_%'] = f'{p_t:.2%}'\n",
    "\n",
    "            # Testa contra cada grupo de controle\n",
    "            for i, grupo in enumerate(grupos):\n",
    "                p_val = z_test_proporcao(k_ctrl[i], totais[grupo], k_t, totais[grupo_teste])\n",
    "                linha[f'p_{grupo}_vs_{grupo_teste}'] = round(p_val, 3)\n",
    "\n",
    "            # Teste combinado dos controles vs grupo_teste\n",
    "            k_comb = sum(k_ctrl)\n",
    "            n_comb = sum(totais[g] for g in grupos)\n",
    "            p_val_comb = z_test_proporcao(k_comb, n_comb, k_t, totais[grupo_teste])\n",
    "            linha[f'p_comb_vs_{grupo_teste}'] = round(p_val_comb, 3)\n",
    "\n",
    "        resultados.append(linha)\n",
    "\n",
    "    # Cria DataFrame de resultados\n",
    "    tabela = pd.DataFrame(resultados).sort_values('event')\n",
    "\n",
    "    # Verifica se todos os testes não rejeitam H0\n",
    "    if grupo_teste:\n",
    "        cols_p = [col for col in tabela.columns if col.startswith('p_')]\n",
    "        mask_sem_diferenca = (tabela[cols_p] >= alpha).all(axis=1)\n",
    "        if mask_sem_diferenca.all():\n",
    "            print(f\"\\n✅ Todos os eventos têm p ≥ {alpha} em todas as comparações → nenhuma diferença significativa.\")\n",
    "        else:\n",
    "            print(f\"\\n⚠️ Pelo menos um evento tem p < {alpha} → possível efeito do tratamento ou desequilíbrio.\")\n",
    "    else:\n",
    "        p_cols = []\n",
    "        for i in range(len(grupos)):\n",
    "            for j in range(i+1, len(grupos)):\n",
    "                g1, g2 = grupos[i], grupos[j]\n",
    "                tabela[f'p_{g1}_vs_{g2}'] = [\n",
    "                    round(z_test_proporcao(\n",
    "                        df[(df['group']==g1) & (df['event']==evento)]['id'].nunique(), totais[g1],\n",
    "                        df[(df['group']==g2) & (df['event']==evento)]['id'].nunique(), totais[g2]\n",
    "                    ), 3) for evento in eventos\n",
    "                ]\n",
    "                p_cols.append(f'p_{g1}_vs_{g2}')\n",
    "        if tabela[p_cols].ge(alpha).all(axis=None):\n",
    "            print(f\"\\n✅ Todos os eventos têm p ≥ {alpha} entre {grupos} → grupos balanceados.\")\n",
    "        else:\n",
    "            print(f\"\\n⚠️ Há diferença significativa (p < {alpha}) entre grupos de controle → A/A pode estar quebrado.\")\n",
    "\n",
    "    return tabela\n",
    "\n",
    "# Função auxiliar\n",
    "def z_test_proporcao(k1, n1, k2, n2):\n",
    "    p_comb = (k1 + k2) / (n1 + n2)\n",
    "    se = np.sqrt(p_comb * (1 - p_comb) * (1/n1 + 1/n2))\n",
    "    z = (k1/n1 - k2/n2) / se\n",
    "    return 2 * (1 - st.norm.cdf(abs(z)))\n"
   ]
  },
  {
   "cell_type": "code",
   "execution_count": 182,
   "id": "3a60b928",
   "metadata": {},
   "outputs": [
    {
     "name": "stderr",
     "output_type": "stream",
     "text": [
      "C:\\Users\\jonat\\AppData\\Local\\Temp\\ipykernel_12488\\1058588856.py:3: FutureWarning: The default of observed=False is deprecated and will be changed to True in a future version of pandas. Pass observed=False to retain current behavior or observed=True to adopt the future default and silence this warning.\n",
      "  totais = df[df['group'].isin(grupos + ([grupo_teste] if grupo_teste else []))].groupby('group')['id'].nunique()\n"
     ]
    },
    {
     "name": "stdout",
     "output_type": "stream",
     "text": [
      "\n",
      "✅ Todos os eventos têm p ≥ 0.1 entre ['A1', 'A2'] → grupos balanceados.\n",
      "                     event  A1_users    A1_%  A2_users    A2_%  p_A1_vs_A2\n",
      "4         CartScreenAppear      1267  50.99%      1239  49.23%       0.587\n",
      "0         MainScreenAppear      2452  98.67%      2479  98.49%       0.274\n",
      "1       OffersScreenAppear      1544  62.13%      1526  60.63%       0.879\n",
      "3  PaymentScreenSuccessful      1200  48.29%      1159  46.05%       0.112\n",
      "2                 Tutorial       278  11.19%       285  11.32%       0.213\n"
     ]
    }
   ],
   "source": [
    "res_aa = testar_diferenca_proporcao_eventos(df, grupos=['A1', 'A2'], alpha=0.1)\n",
    "print(res_aa)\n"
   ]
  },
  {
   "cell_type": "code",
   "execution_count": 183,
   "id": "ca9e297b",
   "metadata": {},
   "outputs": [
    {
     "name": "stdout",
     "output_type": "stream",
     "text": [
      "\n",
      "⚠️ Pelo menos um evento tem p < 0.1 → possível efeito do tratamento ou desequilíbrio.\n",
      "                     event  A1_users    A1_%  A2_users    A2_%  B_users  \\\n",
      "4         CartScreenAppear      1267  50.99%      1239  49.23%     1236   \n",
      "0         MainScreenAppear      2452  98.67%      2479  98.49%     2498   \n",
      "1       OffersScreenAppear      1544  62.13%      1526  60.63%     1536   \n",
      "3  PaymentScreenSuccessful      1200  48.29%      1159  46.05%     1183   \n",
      "2                 Tutorial       278  11.19%       285  11.32%      282   \n",
      "\n",
      "      B_%  p_A1_vs_B  p_A2_vs_B  p_comb_vs_B  \n",
      "4  48.66%      0.099      0.688        0.238  \n",
      "0  98.35%      0.341      0.682        0.429  \n",
      "1  60.47%      0.227      0.910        0.447  \n",
      "3  46.57%      0.224      0.707        0.630  \n",
      "2  11.10%      0.924      0.804        0.842  \n"
     ]
    },
    {
     "name": "stderr",
     "output_type": "stream",
     "text": [
      "C:\\Users\\jonat\\AppData\\Local\\Temp\\ipykernel_12488\\1058588856.py:3: FutureWarning: The default of observed=False is deprecated and will be changed to True in a future version of pandas. Pass observed=False to retain current behavior or observed=True to adopt the future default and silence this warning.\n",
      "  totais = df[df['group'].isin(grupos + ([grupo_teste] if grupo_teste else []))].groupby('group')['id'].nunique()\n"
     ]
    }
   ],
   "source": [
    "res_ab = testar_diferenca_proporcao_eventos(df, grupos=['A1', 'A2'], grupo_teste='B', alpha=0.1)\n",
    "print(res_ab)\n"
   ]
  },
  {
   "cell_type": "code",
   "execution_count": 186,
   "id": "ad56f2ae",
   "metadata": {},
   "outputs": [
    {
     "name": "stdout",
     "output_type": "stream",
     "text": [
      "\n",
      "✅ Todos os eventos têm p ≥ 0.0033333333333333335 em todas as comparações → nenhuma diferença significativa.\n",
      "                     event  A1_users    A1_%  A2_users    A2_%  B_users  \\\n",
      "4         CartScreenAppear      1267  50.99%      1239  49.23%     1236   \n",
      "0         MainScreenAppear      2452  98.67%      2479  98.49%     2498   \n",
      "1       OffersScreenAppear      1544  62.13%      1526  60.63%     1536   \n",
      "3  PaymentScreenSuccessful      1200  48.29%      1159  46.05%     1183   \n",
      "2                 Tutorial       278  11.19%       285  11.32%      282   \n",
      "\n",
      "      B_%  p_A1_vs_B  p_A2_vs_B  p_comb_vs_B  \n",
      "4  48.66%      0.099      0.688        0.238  \n",
      "0  98.35%      0.341      0.682        0.429  \n",
      "1  60.47%      0.227      0.910        0.447  \n",
      "3  46.57%      0.224      0.707        0.630  \n",
      "2  11.10%      0.924      0.804        0.842  \n"
     ]
    },
    {
     "name": "stderr",
     "output_type": "stream",
     "text": [
      "C:\\Users\\jonat\\AppData\\Local\\Temp\\ipykernel_12488\\1058588856.py:3: FutureWarning: The default of observed=False is deprecated and will be changed to True in a future version of pandas. Pass observed=False to retain current behavior or observed=True to adopt the future default and silence this warning.\n",
      "  totais = df[df['group'].isin(grupos + ([grupo_teste] if grupo_teste else []))].groupby('group')['id'].nunique()\n"
     ]
    }
   ],
   "source": [
    "# Se tiver 30 testes, ajusta alpha:\n",
    "alpha_bonf = 0.1 / 30\n",
    "res_bonf = testar_diferenca_proporcao_eventos(df, grupos=['A1', 'A2'], grupo_teste='B', alpha=alpha_bonf)\n",
    "print(res_bonf)\n"
   ]
  },
  {
   "cell_type": "markdown",
   "id": "e891f8ca",
   "metadata": {},
   "source": [
    "Nenhum p-valor fica abaixo de 0.05, em nenhuma das três comparações para qualquer evento.\n",
    "\n",
    "Isso significa que não há diferença estatisticamente significativa entre o grupo de fontes alteradas (B) e nenhum dos grupos de controle (A1, A2 ou A1 + A2) em termos da proporção de usuários que executaram cada evento.\n",
    "# Conclusões do experimento\n",
    "\n",
    "A randomização dos usuários parece ter funcionado corretamente: os três grupos são estatisticamente equivalentes para todas as ações medida"
   ]
  },
  {
   "cell_type": "markdown",
   "id": "d4d3b481",
   "metadata": {},
   "source": [
    "Em cada um dos comparativos (A1 vs A2, A1 vs B, A2 vs B e combinado vs B), foi utilizado um nível de significância de α = 0,1 para rejeição da hipótese nula (H₀). Esse valor indica que estamos aceitando até 10% de chance de cometer um erro tipo I em cada teste isolado.\n",
    "Foram analisados 5 eventos, com 3 comparações realizadas em cada um (A1 vs B, A2 vs B e A1+A2 vs B), totalizando 15 testes estatísticos.\n",
    "\n",
    "Isso significa que, com α = 0,1, existe uma chance de até 10% de rejeitar uma hipótese nula verdadeira em cada teste, o que aumenta a probabilidade de pelo menos um falso positivo ao realizar múltiplos testes.\n",
    "\n",
    "Para controlar o erro global, uma alternativa é aplicar o ajuste de Bonferroni: α corrigido = 0,05 / 15 ≈ 0,0033 por teste. Outra possibilidade é usar o método de controle da FDR, como Benjamini-Hochberg, que é menos conservador e busca equilibrar descobertas verdadeiras com o risco de falsos positivos.\n",
    "\n",
    "Caso decida aplicar um nível de significância ajustado (como 0,0033), será necessário refazer todos os testes e verificar se os p-valores permanecem abaixo do novo limiar. Isso indicará se ainda há diferenças estatisticamente significativas."
   ]
  },
  {
   "cell_type": "markdown",
   "id": "ee816e77",
   "metadata": {},
   "source": [
    "<div class=\"alert alert-block alert-warning\">\n",
    "<b> Comentário do revisor: </b> <a class=\"tocSkip\"></a>\n",
    "    \n",
    "Aqui você poderiia simplificar o teste de proporções. Segue um exemplo abaixo:\n",
    "```python\n",
    "    \n",
    "def check_hypothesis(successes1, successes2, trials1, trials2, alpha=0.01):\n",
    "    # proportion of successes in the first group:\n",
    "    p1 = successes1/trials1\n",
    "\n",
    "    # proportion of successes in the second group:\n",
    "    p2 = successes2/trials2\n",
    "\n",
    "    # proportion of successes in the combined dataset:\n",
    "    p_combined = (successes1 + successes2) / (trials1 + trials2)\n",
    "\n",
    "    # the difference of proportions in datasets\n",
    "    difference = p1 - p2\n",
    "    \n",
    "    # calculating the statistic in standard deviations of standard normal distribution\n",
    "    z_value = difference / math.sqrt(p_combined * (1 - p_combined) * (1/trials1 + 1/trials2))\n",
    "\n",
    "    # setting standard normal distribution (mean= 0, standard deviation=1)\n",
    "    distr = stats.norm(0, 1) \n",
    "\n",
    "    p_value = (1 - distr.cdf(abs(z_value))) * 2\n",
    "\n",
    "    print('p-value: ', p_value)\n",
    "\n",
    "    if (p_value < alpha):\n",
    "        ...\n",
    "    else:\n",
    "        ...\n",
    "                         \n",
    "                         \n",
    "... # Usando a função acima (repita isso para outros eventos)\n",
    "                         \n",
    "check_hypothesis(users_events_per_group.loc['MainScreenAppear', 246],\n",
    "                 users_events_per_group.loc['MainScreenAppear', 247],\n",
    "                 users_per_group.loc[246],\n",
    "                 users_per_group.loc[247],\n",
    "                )   \n",
    "```\n",
    "\n",
    "</div>"
   ]
  },
  {
   "cell_type": "markdown",
   "id": "b036762d",
   "metadata": {},
   "source": [
    "## Conclusão\n",
    "\n",
    "Após a análise detalhada dos logs de eventos do teste A/B, podemos tirar as seguintes conclusões:\n",
    "\n",
    "1.  **Pré-processamento e Análise Exploratória:** Os dados foram carregados, limpos e preparados adequadamente. A análise exploratória revelou um funil de eventos claro (`MainScreenAppear` -> `OffersScreenAppear` -> `CartScreenAppear` -> `PaymentScreenSuccessful`), com a maior taxa de abandono ocorrendo na primeira transição. Cerca de 39% dos usuários que iniciaram o funil completaram o pagamento. Os dados mostraram maior consistência a partir de 31/07/2019, mas a análise utilizou o conjunto completo devido à perda mínima de dados ao filtrar.\n",
    "\n",
    "2.  **Validação do Teste A/A:** A comparação entre os grupos de controle A1 e A2 (teste A/A) não mostrou diferenças estatisticamente significativas nas proporções de usuários para nenhum dos eventos analisados, utilizando o **nível de significância α = 0,1** definido para cada teste individual (todos os p-valores foram maiores que 0,1). Isso confirma que os grupos de controle eram homogêneos e que a divisão dos usuários foi feita corretamente, validando a configuração do experimento.\n",
    "\n",
    "3.  **Resultados do Teste A/B:** A comparação do grupo de teste B (com a nova fonte) contra os grupos de controle A1, A2 e o combinado (A1+A2) também não revelou diferenças estatisticamente significativas em nenhuma das etapas do funil. Todos os p-valores calculados para as 15 comparações A/B foram **superiores ao nível de significância α = 0,1**.\n",
    "\n",
    "4.  **Impacto da Mudança de Fonte:** Com base nos resultados dos testes estatísticos (utilizando um nível de significância **α = 0,1 por teste**), **não há evidências estatísticas para concluir que a alteração da fonte no aplicativo teve um impacto mensurável** na proporção de usuários que progridem através das principais etapas do funil de compra durante o período analisado. A mudança parece ser neutra em relação a essas métricas.\n",
    "\n",
    "5.  **Considerações sobre Testes Múltiplos e Nível de Significância:** Foi utilizado um nível de significância de **α = 0,1** para cada teste individual. Foram realizados 15 testes estatísticos independentes nas comparações A/B (5 eventos x 3 comparações). Embora usar α = 0,1 aumente a chance de erro Tipo I (rejeitar H₀ quando ela é verdadeira) para 10% em cada teste, a realização de múltiplos testes eleva a probabilidade acumulada de ocorrer pelo menos um falso positivo (erro familiar). Métodos como a correção de Bonferroni (α corrigido ≈ 0,0033) ou o controle da Taxa de Falsas Descobertas (FDR) poderiam ser usados para mitigar esse risco. No entanto, como **nenhum dos p-valores individuais sequer se aproximou do limiar inicial de 0,1**, a aplicação dessas correções mais rigorosas não alteraria a conclusão principal. A ausência de significância estatística, mesmo sob um critério individual menos estrito (α = 0,1), reforça a conclusão de que a mudança de fonte provavelmente não teve um efeito detectável.\n",
    "\n",
    "Portanto, o experimento indica fortemente que a alteração da fonte é neutra em relação ao comportamento do usuário no funil de compras principal, conforme medido pelas proporções de conversão entre etapas."
   ]
  }
 ],
 "metadata": {
  "kernelspec": {
   "display_name": "Python 3",
   "language": "python",
   "name": "python3"
  },
  "language_info": {
   "codemirror_mode": {
    "name": "ipython",
    "version": 3
   },
   "file_extension": ".py",
   "mimetype": "text/x-python",
   "name": "python",
   "nbconvert_exporter": "python",
   "pygments_lexer": "ipython3",
   "version": "3.12.5"
  },
  "toc": {
   "base_numbering": 1,
   "nav_menu": {},
   "number_sections": true,
   "sideBar": true,
   "skip_h1_title": true,
   "title_cell": "Table of Contents",
   "title_sidebar": "Contents",
   "toc_cell": false,
   "toc_position": {},
   "toc_section_display": true,
   "toc_window_display": false
  }
 },
 "nbformat": 4,
 "nbformat_minor": 5
}
