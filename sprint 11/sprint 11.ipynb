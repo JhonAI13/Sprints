{
 "cells": [
  {
   "cell_type": "markdown",
   "id": "915ebeac",
   "metadata": {},
   "source": [
    "# Análise de Teste A/B: Impacto da Mudança de Fonte no Funil de Compras\n",
    "\n",
    "## Introdução\n",
    "\n",
    "Este notebook analisa os dados de logs de um aplicativo móvel (`logs_exp_us.csv`) para avaliar o impacto de uma alteração de fonte em um teste A/B. O objetivo principal é determinar se a nova fonte (Grupo B) afeta o comportamento do usuário ao longo do funil de eventos principal, em comparação com os grupos de controle (Grupo A1 e Grupo A2) que utilizam a fonte antiga.\n",
    "\n",
    "Os dados contêm informações sobre:\n",
    "*   `event`: O nome do evento registrado (ex: `MainScreenAppear`, `PaymentScreenSuccessful`).\n",
    "*   `id`: O identificador único do usuário.\n",
    "*   `time`: O momento exato em que o evento ocorreu.\n",
    "*   `group`: O grupo do experimento ao qual o usuário pertence (A1 e A2 são controles, B é o grupo de teste com a nova fonte).\n",
    "\n",
    "A análise seguirá os seguintes passos:\n",
    "1.  Carregamento e pré-processamento dos dados, incluindo conversão de tipos e mapeamento dos grupos.\n",
    "2.  Análise exploratória dos dados (EDA) para entender a distribuição dos eventos, usuários, o período do experimento e a consistência dos dados.\n",
    "3.  Construção e análise do funil de eventos principal (`MainScreenAppear` -> `OffersScreenAppear` -> `CartScreenAppear` -> `PaymentScreenSuccessful`) para identificar taxas de conversão e pontos de abandono.\n",
    "4.  Realização de um teste A/A para verificar se os grupos de controle (A1 e A2) são estatisticamente semelhantes, validando a configuração do experimento.\n",
    "5.  Realização de testes A/B (usando testes Z para proporções) para comparar o grupo de teste (B) com os grupos de controle (A1, A2 e combinado) em cada etapa do funil.\n",
    "6.  Discussão sobre os níveis de significância e conclusões sobre o impacto da mudança de fonte."
   ]
  },
  {
   "cell_type": "code",
   "execution_count": 175,
   "id": "d3226a8f",
   "metadata": {},
   "outputs": [],
   "source": [
    "import pandas as pd\n",
    "import numpy as np\n",
    "import matplotlib.pyplot as plt\n",
    "import seaborn as sns\n",
    "from scipy import stats as st\n",
    "import plotly.express as px\n",
    "import os"
   ]
  },
  {
   "cell_type": "code",
   "execution_count": 176,
   "id": "6f6131fb",
   "metadata": {},
   "outputs": [
    {
     "data": {
      "text/html": [
       "<div>\n",
       "<style scoped>\n",
       "    .dataframe tbody tr th:only-of-type {\n",
       "        vertical-align: middle;\n",
       "    }\n",
       "\n",
       "    .dataframe tbody tr th {\n",
       "        vertical-align: top;\n",
       "    }\n",
       "\n",
       "    .dataframe thead th {\n",
       "        text-align: right;\n",
       "    }\n",
       "</style>\n",
       "<table border=\"1\" class=\"dataframe\">\n",
       "  <thead>\n",
       "    <tr style=\"text-align: right;\">\n",
       "      <th></th>\n",
       "      <th>event</th>\n",
       "      <th>id</th>\n",
       "      <th>time</th>\n",
       "      <th>group</th>\n",
       "    </tr>\n",
       "  </thead>\n",
       "  <tbody>\n",
       "    <tr>\n",
       "      <th>0</th>\n",
       "      <td>MainScreenAppear</td>\n",
       "      <td>4575588528974610257</td>\n",
       "      <td>1564029816</td>\n",
       "      <td>246</td>\n",
       "    </tr>\n",
       "    <tr>\n",
       "      <th>1</th>\n",
       "      <td>MainScreenAppear</td>\n",
       "      <td>7416695313311560658</td>\n",
       "      <td>1564053102</td>\n",
       "      <td>246</td>\n",
       "    </tr>\n",
       "    <tr>\n",
       "      <th>2</th>\n",
       "      <td>PaymentScreenSuccessful</td>\n",
       "      <td>3518123091307005509</td>\n",
       "      <td>1564054127</td>\n",
       "      <td>248</td>\n",
       "    </tr>\n",
       "    <tr>\n",
       "      <th>3</th>\n",
       "      <td>CartScreenAppear</td>\n",
       "      <td>3518123091307005509</td>\n",
       "      <td>1564054127</td>\n",
       "      <td>248</td>\n",
       "    </tr>\n",
       "    <tr>\n",
       "      <th>4</th>\n",
       "      <td>PaymentScreenSuccessful</td>\n",
       "      <td>6217807653094995999</td>\n",
       "      <td>1564055322</td>\n",
       "      <td>248</td>\n",
       "    </tr>\n",
       "  </tbody>\n",
       "</table>\n",
       "</div>"
      ],
      "text/plain": [
       "                     event                   id        time  group\n",
       "0         MainScreenAppear  4575588528974610257  1564029816    246\n",
       "1         MainScreenAppear  7416695313311560658  1564053102    246\n",
       "2  PaymentScreenSuccessful  3518123091307005509  1564054127    248\n",
       "3         CartScreenAppear  3518123091307005509  1564054127    248\n",
       "4  PaymentScreenSuccessful  6217807653094995999  1564055322    248"
      ]
     },
     "execution_count": 176,
     "metadata": {},
     "output_type": "execute_result"
    }
   ],
   "source": [
    "local = r'C:\\Users\\jonat\\Documents\\GitHub\\Sprints\\sprint 11'\n",
    "caminho_arquivo = os.path.join(local, 'data', 'logs_exp_us.csv')\n",
    "\n",
    "df = pd.read_csv(caminho_arquivo, sep='\\t')\n",
    "df.columns = [\"event\", \"id\", \"time\", 'group']\n",
    "df.head(5)"
   ]
  },
  {
   "cell_type": "markdown",
   "id": "fecc8f73",
   "metadata": {},
   "source": [
    "# dados\n",
    "- event — nome do evento\n",
    "- id — identificador de usuário exclusivo\n",
    "- time — hora do evento\n",
    "- grupo — número do experimento: 246 e 247 são os grupos de controle, 248 é o grupo de teste"
   ]
  },
  {
   "cell_type": "code",
   "execution_count": 177,
   "id": "0b25c5ee",
   "metadata": {},
   "outputs": [
    {
     "name": "stdout",
     "output_type": "stream",
     "text": [
      "<class 'pandas.core.frame.DataFrame'>\n",
      "RangeIndex: 244126 entries, 0 to 244125\n",
      "Data columns (total 4 columns):\n",
      " #   Column  Non-Null Count   Dtype \n",
      "---  ------  --------------   ----- \n",
      " 0   event   244126 non-null  object\n",
      " 1   id      244126 non-null  int64 \n",
      " 2   time    244126 non-null  int64 \n",
      " 3   group   244126 non-null  int64 \n",
      "dtypes: int64(3), object(1)\n",
      "memory usage: 7.5+ MB\n"
     ]
    }
   ],
   "source": [
    "df.info()"
   ]
  },
  {
   "cell_type": "code",
   "execution_count": 178,
   "id": "19cb7a5c",
   "metadata": {},
   "outputs": [
    {
     "name": "stdout",
     "output_type": "stream",
     "text": [
      "<class 'pandas.core.frame.DataFrame'>\n",
      "RangeIndex: 244126 entries, 0 to 244125\n",
      "Data columns (total 4 columns):\n",
      " #   Column  Non-Null Count   Dtype         \n",
      "---  ------  --------------   -----         \n",
      " 0   event   244126 non-null  category      \n",
      " 1   id      244126 non-null  int64         \n",
      " 2   time    244126 non-null  datetime64[ns]\n",
      " 3   group   244126 non-null  category      \n",
      "dtypes: category(2), datetime64[ns](1), int64(1)\n",
      "memory usage: 4.2 MB\n"
     ]
    }
   ],
   "source": [
    "# Conversão de tipos \n",
    "df['event'] = df['event'].astype('category')\n",
    "df['time'] = pd.to_datetime(df['time'], unit='s')\n",
    "mapping = {246: 'A1', 247: 'A2', 248: 'B'}\n",
    "df['group'] = df['group'].map(lambda x: mapping.get(x, x)).astype('category')\n",
    "\n",
    "# Exibindo resultado\n",
    "df.info()"
   ]
  },
  {
   "cell_type": "markdown",
   "id": "4400dc37",
   "metadata": {},
   "source": [
    "# dados tratados\n",
    "Agora o df de 7,5mb passou a ter 4,2mg. E fiz uma atualização na tabela group para que mostre uma string com os grupos especificos que nomei: \n",
    "- A1 = 246\n",
    "- A2 = 247\n",
    "- B = 248"
   ]
  },
  {
   "cell_type": "code",
   "execution_count": 179,
   "id": "0d2692d7",
   "metadata": {},
   "outputs": [
    {
     "data": {
      "text/html": [
       "<div>\n",
       "<style scoped>\n",
       "    .dataframe tbody tr th:only-of-type {\n",
       "        vertical-align: middle;\n",
       "    }\n",
       "\n",
       "    .dataframe tbody tr th {\n",
       "        vertical-align: top;\n",
       "    }\n",
       "\n",
       "    .dataframe thead th {\n",
       "        text-align: right;\n",
       "    }\n",
       "</style>\n",
       "<table border=\"1\" class=\"dataframe\">\n",
       "  <thead>\n",
       "    <tr style=\"text-align: right;\">\n",
       "      <th></th>\n",
       "      <th>event</th>\n",
       "      <th>id</th>\n",
       "      <th>time</th>\n",
       "      <th>group</th>\n",
       "      <th>data</th>\n",
       "    </tr>\n",
       "  </thead>\n",
       "  <tbody>\n",
       "    <tr>\n",
       "      <th>0</th>\n",
       "      <td>MainScreenAppear</td>\n",
       "      <td>4575588528974610257</td>\n",
       "      <td>2019-07-25 04:43:36</td>\n",
       "      <td>A1</td>\n",
       "      <td>2019-07-25</td>\n",
       "    </tr>\n",
       "    <tr>\n",
       "      <th>1</th>\n",
       "      <td>MainScreenAppear</td>\n",
       "      <td>7416695313311560658</td>\n",
       "      <td>2019-07-25 11:11:42</td>\n",
       "      <td>A1</td>\n",
       "      <td>2019-07-25</td>\n",
       "    </tr>\n",
       "    <tr>\n",
       "      <th>2</th>\n",
       "      <td>PaymentScreenSuccessful</td>\n",
       "      <td>3518123091307005509</td>\n",
       "      <td>2019-07-25 11:28:47</td>\n",
       "      <td>B</td>\n",
       "      <td>2019-07-25</td>\n",
       "    </tr>\n",
       "    <tr>\n",
       "      <th>3</th>\n",
       "      <td>CartScreenAppear</td>\n",
       "      <td>3518123091307005509</td>\n",
       "      <td>2019-07-25 11:28:47</td>\n",
       "      <td>B</td>\n",
       "      <td>2019-07-25</td>\n",
       "    </tr>\n",
       "    <tr>\n",
       "      <th>4</th>\n",
       "      <td>PaymentScreenSuccessful</td>\n",
       "      <td>6217807653094995999</td>\n",
       "      <td>2019-07-25 11:48:42</td>\n",
       "      <td>B</td>\n",
       "      <td>2019-07-25</td>\n",
       "    </tr>\n",
       "    <tr>\n",
       "      <th>...</th>\n",
       "      <td>...</td>\n",
       "      <td>...</td>\n",
       "      <td>...</td>\n",
       "      <td>...</td>\n",
       "      <td>...</td>\n",
       "    </tr>\n",
       "    <tr>\n",
       "      <th>244121</th>\n",
       "      <td>MainScreenAppear</td>\n",
       "      <td>4599628364049201812</td>\n",
       "      <td>2019-08-07 21:12:25</td>\n",
       "      <td>A2</td>\n",
       "      <td>2019-08-07</td>\n",
       "    </tr>\n",
       "    <tr>\n",
       "      <th>244122</th>\n",
       "      <td>MainScreenAppear</td>\n",
       "      <td>5849806612437486590</td>\n",
       "      <td>2019-08-07 21:13:59</td>\n",
       "      <td>A1</td>\n",
       "      <td>2019-08-07</td>\n",
       "    </tr>\n",
       "    <tr>\n",
       "      <th>244123</th>\n",
       "      <td>MainScreenAppear</td>\n",
       "      <td>5746969938801999050</td>\n",
       "      <td>2019-08-07 21:14:43</td>\n",
       "      <td>A1</td>\n",
       "      <td>2019-08-07</td>\n",
       "    </tr>\n",
       "    <tr>\n",
       "      <th>244124</th>\n",
       "      <td>MainScreenAppear</td>\n",
       "      <td>5746969938801999050</td>\n",
       "      <td>2019-08-07 21:14:58</td>\n",
       "      <td>A1</td>\n",
       "      <td>2019-08-07</td>\n",
       "    </tr>\n",
       "    <tr>\n",
       "      <th>244125</th>\n",
       "      <td>OffersScreenAppear</td>\n",
       "      <td>5746969938801999050</td>\n",
       "      <td>2019-08-07 21:15:17</td>\n",
       "      <td>A1</td>\n",
       "      <td>2019-08-07</td>\n",
       "    </tr>\n",
       "  </tbody>\n",
       "</table>\n",
       "<p>244126 rows × 5 columns</p>\n",
       "</div>"
      ],
      "text/plain": [
       "                          event                   id                time  \\\n",
       "0              MainScreenAppear  4575588528974610257 2019-07-25 04:43:36   \n",
       "1              MainScreenAppear  7416695313311560658 2019-07-25 11:11:42   \n",
       "2       PaymentScreenSuccessful  3518123091307005509 2019-07-25 11:28:47   \n",
       "3              CartScreenAppear  3518123091307005509 2019-07-25 11:28:47   \n",
       "4       PaymentScreenSuccessful  6217807653094995999 2019-07-25 11:48:42   \n",
       "...                         ...                  ...                 ...   \n",
       "244121         MainScreenAppear  4599628364049201812 2019-08-07 21:12:25   \n",
       "244122         MainScreenAppear  5849806612437486590 2019-08-07 21:13:59   \n",
       "244123         MainScreenAppear  5746969938801999050 2019-08-07 21:14:43   \n",
       "244124         MainScreenAppear  5746969938801999050 2019-08-07 21:14:58   \n",
       "244125       OffersScreenAppear  5746969938801999050 2019-08-07 21:15:17   \n",
       "\n",
       "       group        data  \n",
       "0         A1  2019-07-25  \n",
       "1         A1  2019-07-25  \n",
       "2          B  2019-07-25  \n",
       "3          B  2019-07-25  \n",
       "4          B  2019-07-25  \n",
       "...      ...         ...  \n",
       "244121    A2  2019-08-07  \n",
       "244122    A1  2019-08-07  \n",
       "244123    A1  2019-08-07  \n",
       "244124    A1  2019-08-07  \n",
       "244125    A1  2019-08-07  \n",
       "\n",
       "[244126 rows x 5 columns]"
      ]
     },
     "execution_count": 179,
     "metadata": {},
     "output_type": "execute_result"
    }
   ],
   "source": [
    "df['data'] = pd.to_datetime(df['time']).dt.date\n",
    "df"
   ]
  },
  {
   "cell_type": "code",
   "execution_count": 180,
   "id": "3c8874e0",
   "metadata": {},
   "outputs": [
    {
     "data": {
      "text/plain": [
       "['MainScreenAppear', 'PaymentScreenSuccessful', 'CartScreenAppear', 'OffersScreenAppear', 'Tutorial']\n",
       "Categories (5, object): ['CartScreenAppear', 'MainScreenAppear', 'OffersScreenAppear', 'PaymentScreenSuccessful', 'Tutorial']"
      ]
     },
     "execution_count": 180,
     "metadata": {},
     "output_type": "execute_result"
    }
   ],
   "source": [
    "df['event'].unique()"
   ]
  },
  {
   "cell_type": "markdown",
   "id": "133857ac",
   "metadata": {},
   "source": [
    "MainScreenAppear — Tela principal apareceu\n",
    "\n",
    "PaymentScreenSuccessful — Pagamento realizado com sucesso\n",
    "\n",
    "CartScreenAppear — Tela do carrinho apareceu\n",
    "\n",
    "OffersScreenAppear — Tela de ofertas apareceu\n",
    "\n",
    "Tutorial — Tutorial exibido"
   ]
  },
  {
   "cell_type": "markdown",
   "id": "283f3186",
   "metadata": {},
   "source": []
  },
  {
   "cell_type": "code",
   "execution_count": 181,
   "id": "5baff6d3",
   "metadata": {},
   "outputs": [
    {
     "name": "stdout",
     "output_type": "stream",
     "text": [
      "Nenhum valor ausente encontrado.\n"
     ]
    }
   ],
   "source": [
    "def verificar_valores_ausentes(df):\n",
    "    ausentes = df.isnull().sum()\n",
    "    return ausentes[ausentes > 0] if ausentes.any() else \"Nenhum valor ausente encontrado.\"\n",
    "resultado = verificar_valores_ausentes(df)\n",
    "print(resultado)\n"
   ]
  },
  {
   "cell_type": "code",
   "execution_count": 182,
   "id": "b31d65c5",
   "metadata": {},
   "outputs": [
    {
     "data": {
      "text/plain": [
       "5"
      ]
     },
     "execution_count": 182,
     "metadata": {},
     "output_type": "execute_result"
    }
   ],
   "source": [
    "df['event'].nunique()\n"
   ]
  },
  {
   "cell_type": "markdown",
   "id": "da89c33c",
   "metadata": {},
   "source": [
    "São 5 eventos registrados"
   ]
  },
  {
   "cell_type": "code",
   "execution_count": 183,
   "id": "e886e966",
   "metadata": {},
   "outputs": [
    {
     "data": {
      "text/plain": [
       "7551"
      ]
     },
     "execution_count": 183,
     "metadata": {},
     "output_type": "execute_result"
    }
   ],
   "source": [
    "df['id'].nunique()"
   ]
  },
  {
   "cell_type": "markdown",
   "id": "46a9d1d7",
   "metadata": {},
   "source": [
    "Tem 7551 ids que representam essa quantidade de clientes."
   ]
  },
  {
   "cell_type": "code",
   "execution_count": 184,
   "id": "44cce678",
   "metadata": {},
   "outputs": [
    {
     "data": {
      "text/plain": [
       "32.33028737915508"
      ]
     },
     "execution_count": 184,
     "metadata": {},
     "output_type": "execute_result"
    }
   ],
   "source": [
    "df.groupby('id')['event'].count().mean()"
   ]
  },
  {
   "cell_type": "markdown",
   "id": "55b542ae",
   "metadata": {},
   "source": [
    "A média de eventos por usuário é de 32."
   ]
  },
  {
   "cell_type": "code",
   "execution_count": 185,
   "id": "e944cee6",
   "metadata": {},
   "outputs": [
    {
     "name": "stdout",
     "output_type": "stream",
     "text": [
      "A menor data é 2019-07-25 e a maior data é 2019-08-07 um total de 13 days, 0:00:00 \n"
     ]
    }
   ],
   "source": [
    "print(f'A menor data é {df['data'].min()} e a maior data é {df['data'].max()} um total de {df['data'].max() - df['data'].min()} ')"
   ]
  },
  {
   "cell_type": "code",
   "execution_count": 186,
   "id": "65bd2667",
   "metadata": {},
   "outputs": [
    {
     "data": {
      "image/png": "[encoded data removed]",
      "text/plain": [
       "<Figure size 640x480 with 1 Axes>"
      ]
     },
     "metadata": {},
     "output_type": "display_data"
    }
   ],
   "source": [
    "df['time'] = pd.to_datetime(df['time'])\n",
    "df['date'] = df['time'].dt.date\n",
    "\n",
    "df['date'].value_counts().sort_index().plot(kind='bar')\n",
    "plt.title('Distribuição de eventos por dia')\n",
    "plt.xlabel('Data')\n",
    "plt.ylabel('Número de eventos')\n",
    "plt.xticks(rotation=45)\n",
    "plt.show()\n"
   ]
  },
  {
   "cell_type": "markdown",
   "id": "20bcee1b",
   "metadata": {},
   "source": [
    "Os dados começam a ter volume e consistencia a partir do dia 31/07"
   ]
  },
  {
   "cell_type": "code",
   "execution_count": 187,
   "id": "daedb26b",
   "metadata": {},
   "outputs": [
    {
     "name": "stdout",
     "output_type": "stream",
     "text": [
      "A menor data é 2019-07-31 e a maior data é 2019-08-07 um total de 7 days, 0:00:00 \n"
     ]
    }
   ],
   "source": [
    "df = df[df['time'] >= '2019-07-31']\n",
    "print(f'A menor data é {df['data'].min()} e a maior data é {df['data'].max()} um total de {df['data'].max() - df['data'].min()} ')"
   ]
  },
  {
   "cell_type": "code",
   "execution_count": 188,
   "id": "a598420b",
   "metadata": {},
   "outputs": [
    {
     "name": "stdout",
     "output_type": "stream",
     "text": [
      "0 linhas de 243329 foram perdidas.\n"
     ]
    }
   ],
   "source": [
    "print(f'{df.shape[0] -  df2.shape[0]} linhas de {df.shape[0]} foram perdidas.')"
   ]
  },
  {
   "cell_type": "markdown",
   "id": "e59e894d",
   "metadata": {},
   "source": [
    "não foram muitos eventos e usuários. "
   ]
  },
  {
   "cell_type": "code",
   "execution_count": 189,
   "id": "99f7974d",
   "metadata": {},
   "outputs": [
    {
     "name": "stderr",
     "output_type": "stream",
     "text": [
      "C:\\Users\\jonat\\AppData\\Local\\Temp\\ipykernel_16848\\1343537145.py:1: FutureWarning: The default of observed=False is deprecated and will be changed to True in a future version of pandas. Pass observed=False to retain current behavior or observed=True to adopt the future default and silence this warning.\n",
      "  df.groupby('group')['id'].count()\n"
     ]
    },
    {
     "data": {
      "text/plain": [
       "group\n",
       "A1    80045\n",
       "A2    77811\n",
       "B     85473\n",
       "Name: id, dtype: int64"
      ]
     },
     "execution_count": 189,
     "metadata": {},
     "output_type": "execute_result"
    }
   ],
   "source": [
    "df.groupby('group')['id'].count()"
   ]
  },
  {
   "cell_type": "markdown",
   "id": "49c102e9",
   "metadata": {},
   "source": [
    "Tem bastantes usuários de todos os 3 grupos."
   ]
  },
  {
   "cell_type": "code",
   "execution_count": 190,
   "id": "01b40a85",
   "metadata": {},
   "outputs": [
    {
     "data": {
      "text/plain": [
       "event\n",
       "MainScreenAppear           118681\n",
       "OffersScreenAppear          46724\n",
       "CartScreenAppear            42623\n",
       "PaymentScreenSuccessful     34253\n",
       "Tutorial                     1048\n",
       "Name: count, dtype: int64"
      ]
     },
     "execution_count": 190,
     "metadata": {},
     "output_type": "execute_result"
    }
   ],
   "source": [
    "df['event'].value_counts()\n"
   ]
  },
  {
   "cell_type": "code",
   "execution_count": 191,
   "id": "a42a11c3",
   "metadata": {},
   "outputs": [
    {
     "name": "stdout",
     "output_type": "stream",
     "text": [
      "                         usuarios_unicos proporcao (%)\n",
      "event                                                 \n",
      "MainScreenAppear                    7429         98.5%\n",
      "OffersScreenAppear                  4606         61.1%\n",
      "CartScreenAppear                    3742         49.6%\n",
      "PaymentScreenSuccessful             3542         47.0%\n",
      "Tutorial                             845         11.2%\n"
     ]
    },
    {
     "name": "stderr",
     "output_type": "stream",
     "text": [
      "C:\\Users\\jonat\\AppData\\Local\\Temp\\ipykernel_16848\\3818876811.py:5: FutureWarning: The default of observed=False is deprecated and will be changed to True in a future version of pandas. Pass observed=False to retain current behavior or observed=True to adopt the future default and silence this warning.\n",
      "  usuarios_por_evento = df.groupby('event')['id'].nunique().sort_values(ascending=False)\n"
     ]
    }
   ],
   "source": [
    "# Total de usuários únicos no dataset\n",
    "total_usuarios = df['id'].nunique()\n",
    "\n",
    "# Número de usuários únicos por evento\n",
    "usuarios_por_evento = df.groupby('event')['id'].nunique().sort_values(ascending=False)\n",
    "\n",
    "# Proporção de usuários por evento\n",
    "proporcao_usuarios = usuarios_por_evento / total_usuarios\n",
    "\n",
    "# Juntando em um DataFrame com porcentagem formatada\n",
    "resultado = pd.DataFrame({\n",
    "    'usuarios_unicos': usuarios_por_evento,\n",
    "    'proporcao (%)': proporcao_usuarios.map(lambda x: f'{x:.1%}')\n",
    "})\n",
    "\n",
    "print(resultado)\n"
   ]
  },
  {
   "cell_type": "markdown",
   "id": "314dd0a1",
   "metadata": {},
   "source": [
    "1- MainScreenAppear — Tela principal apareceu\n",
    "\n",
    "2- OffersScreenAppear — Tela de ofertas apareceu\n",
    "\n",
    "3- CartScreenAppear — Tela do carrinho apareceu\n",
    "\n",
    " Tutorial — Tutorial exibido\n",
    "\n",
    "4- PaymentScreenSuccessful — Pagamento realizado com sucesso\n",
    "\n",
    "Nessa ordem tudo faz parte do caminho que o usuario faz até a o pagamento. O tutorial especificamente seria para a primeira compra do usuario, um caminho do q fazer para efetuar uma compra.  "
   ]
  },
  {
   "cell_type": "code",
   "execution_count": 192,
   "id": "c764bbc3",
   "metadata": {},
   "outputs": [
    {
     "name": "stdout",
     "output_type": "stream",
     "text": [
      "De 'MainScreenAppear' para 'OffersScreenAppear': 60.53% (4497 de 7429)\n",
      "De 'OffersScreenAppear' para 'CartScreenAppear': 80.00% (3685 de 4606)\n",
      "De 'CartScreenAppear' para 'PaymentScreenSuccessful': 94.52% (3537 de 3742)\n"
     ]
    }
   ],
   "source": [
    "# Lista com a sequência dos eventos\n",
    "eventos_funnel = [\n",
    "    \"MainScreenAppear\",\n",
    "    \"OffersScreenAppear\",\n",
    "    \"CartScreenAppear\",\n",
    "    \"PaymentScreenSuccessful\"\n",
    "]\n",
    "\n",
    "# Dicionário para armazenar os conjuntos de usuários de cada etapa\n",
    "usuarios_por_evento = {}\n",
    "\n",
    "# Obtemos o conjunto de usuários únicos por evento\n",
    "for evento in eventos_funnel:\n",
    "    usuarios_por_evento[evento] = set(df[df['event'] == evento]['id'].unique())\n",
    "\n",
    "# Agora calculamos as proporções de avanço entre etapas\n",
    "for i in range(len(eventos_funnel) - 1):\n",
    "    etapa_atual = eventos_funnel[i]\n",
    "    proxima_etapa = eventos_funnel[i + 1]\n",
    "    \n",
    "    usuarios_atual = usuarios_por_evento[etapa_atual]\n",
    "    usuarios_proxima = usuarios_por_evento[proxima_etapa]\n",
    "    \n",
    "    # Apenas os que estão na próxima etapa e fizeram a anterior\n",
    "    usuarios_que_avancaram = usuarios_atual & usuarios_proxima\n",
    "    \n",
    "    proporcao = len(usuarios_que_avancaram) / len(usuarios_atual) if len(usuarios_atual) > 0 else 0\n",
    "    \n",
    "    print(f\"De '{etapa_atual}' para '{proxima_etapa}': {proporcao:.2%} ({len(usuarios_que_avancaram)} de {len(usuarios_atual)})\")\n"
   ]
  },
  {
   "cell_type": "markdown",
   "id": "33b51e7c",
   "metadata": {},
   "source": [
    "# Qual fase perde mais usuários\n",
    "Na primeira faze perde-se mais usuários, entra a tela principal para a tela de ofertas."
   ]
  },
  {
   "cell_type": "code",
   "execution_count": 193,
   "id": "9ef1aa60",
   "metadata": {},
   "outputs": [
    {
     "name": "stdout",
     "output_type": "stream",
     "text": [
      "🧍 Usuários que fizeram o caminho inteiro: 2974\n",
      "👥 Total de usuários únicos: 7542\n",
      "📊 Proporção: 39.43%\n"
     ]
    }
   ],
   "source": [
    "# Ordem esperada de eventos (o funil completo)\n",
    "sequencia_esperada = [\n",
    "    \"MainScreenAppear\",\n",
    "    \"OffersScreenAppear\",\n",
    "    \"CartScreenAppear\",\n",
    "    \"PaymentScreenSuccessful\"\n",
    "]\n",
    "\n",
    "# Agrupar eventos por usuário em ordem cronológica\n",
    "eventos_por_usuario = df.sort_values('time').groupby('id')['event'].apply(list)\n",
    "\n",
    "# Verifica se a sequência esperada está contida nos eventos do usuário\n",
    "def contem_toda_a_sequencia(eventos):\n",
    "    i = 0\n",
    "    for evento in eventos:\n",
    "        if evento == sequencia_esperada[i]:\n",
    "            i += 1\n",
    "            if i == len(sequencia_esperada):\n",
    "                return True\n",
    "    return False\n",
    "\n",
    "# Aplicar a função a todos os usuários\n",
    "usuarios_com_caminho_completo = eventos_por_usuario.apply(contem_toda_a_sequencia)\n",
    "\n",
    "# Número de usuários com o caminho completo\n",
    "total_completo = usuarios_com_caminho_completo.sum()\n",
    "\n",
    "# Total de usuários únicos\n",
    "total_usuarios = df['id'].nunique()\n",
    "\n",
    "# Proporção\n",
    "proporcao = total_completo / total_usuarios\n",
    "\n",
    "print(f\"🧍 Usuários que fizeram o caminho inteiro: {total_completo}\")\n",
    "print(f\"👥 Total de usuários únicos: {total_usuarios}\")\n",
    "print(f\"📊 Proporção: {proporcao:.2%}\")\n"
   ]
  },
  {
   "cell_type": "code",
   "execution_count": 194,
   "id": "2869e53b",
   "metadata": {},
   "outputs": [
    {
     "name": "stderr",
     "output_type": "stream",
     "text": [
      "C:\\Users\\jonat\\AppData\\Local\\Temp\\ipykernel_16848\\1343537145.py:1: FutureWarning: The default of observed=False is deprecated and will be changed to True in a future version of pandas. Pass observed=False to retain current behavior or observed=True to adopt the future default and silence this warning.\n",
      "  df.groupby('group')['id'].count()\n"
     ]
    },
    {
     "data": {
      "text/plain": [
       "group\n",
       "A1    80045\n",
       "A2    77811\n",
       "B     85473\n",
       "Name: id, dtype: int64"
      ]
     },
     "execution_count": 194,
     "metadata": {},
     "output_type": "execute_result"
    }
   ],
   "source": [
    "df.groupby('group')['id'].count()"
   ]
  },
  {
   "cell_type": "code",
   "execution_count": 195,
   "id": "f64f6cc8",
   "metadata": {},
   "outputs": [
    {
     "name": "stdout",
     "output_type": "stream",
     "text": [
      "A1: 1200/2485, A2: 1159/2517\n",
      "Proporções → A1: 0.4829, A2: 0.4605\n",
      "z = 1.5888, p = 0.1121\n",
      "→ Sem diferença significativa (A/A OK)\n"
     ]
    },
    {
     "name": "stderr",
     "output_type": "stream",
     "text": [
      "C:\\Users\\jonat\\AppData\\Local\\Temp\\ipykernel_16848\\1085282885.py:5: FutureWarning: The default of observed=False is deprecated and will be changed to True in a future version of pandas. Pass observed=False to retain current behavior or observed=True to adopt the future default and silence this warning.\n",
      "  fez_evento = df[df['event'] == evento].groupby('group')['id'].nunique()\n",
      "C:\\Users\\jonat\\AppData\\Local\\Temp\\ipykernel_16848\\1085282885.py:8: FutureWarning: The default of observed=False is deprecated and will be changed to True in a future version of pandas. Pass observed=False to retain current behavior or observed=True to adopt the future default and silence this warning.\n",
      "  total = df.groupby('group')['id'].nunique()\n"
     ]
    }
   ],
   "source": [
    "# Define o evento de interesse para a análise\n",
    "evento = 'PaymentScreenSuccessful'\n",
    "\n",
    "# Conta quantos usuários únicos de cada grupo (A1 e A2) fizeram esse evento\n",
    "fez_evento = df[df['event'] == evento].groupby('group')['id'].nunique()\n",
    "\n",
    "# Conta o total de usuários únicos de cada grupo (independentemente do evento)\n",
    "total = df.groupby('group')['id'].nunique()\n",
    "\n",
    "# Calcula a proporção de usuários que fizeram o evento em cada grupo\n",
    "p1, p2 = fez_evento['A1'] / total['A1'], fez_evento['A2'] / total['A2']\n",
    "\n",
    "# Calcula a proporção combinada dos dois grupos (para usar no erro padrão)\n",
    "p_comb = (fez_evento['A1'] + fez_evento['A2']) / (total['A1'] + total['A2'])\n",
    "\n",
    "# Calcula o erro padrão da diferença entre duas proporções\n",
    "se = (p_comb * (1 - p_comb) * (1/total['A1'] + 1/total['A2'])) ** 0.5\n",
    "\n",
    "# Calcula o valor da estatística z (teste de hipótese)\n",
    "z = (p1 - p2) / se\n",
    "\n",
    "# Calcula o p-valor (probabilidade de observar uma diferença igual ou maior se não houver diferença real)\n",
    "p_valor = 2 * (1 - st.norm.cdf(abs(z)))\n",
    "\n",
    "# Exibe os resultados: quantidade de usuários por grupo que fizeram o evento, proporções e estatísticas\n",
    "print(f'A1: {fez_evento[\"A1\"]}/{total[\"A1\"]}, A2: {fez_evento[\"A2\"]}/{total[\"A2\"]}')\n",
    "print(f'Proporções → A1: {p1:.4f}, A2: {p2:.4f}')\n",
    "print(f'z = {z:.4f}, p = {p_valor:.4f}')\n",
    "\n",
    "# Interpreta o resultado: verifica se há diferença estatística significativa entre os grupos\n",
    "print(\"→ Diferença significativa\" if p_valor < 0.05 else \"→ Sem diferença significativa (A/A OK)\")\n"
   ]
  },
  {
   "cell_type": "code",
   "execution_count": 196,
   "id": "dcaddc17",
   "metadata": {},
   "outputs": [
    {
     "name": "stdout",
     "output_type": "stream",
     "text": [
      "                     event  A1_users  A2_users    A1_%    A2_%  p_value\n",
      "0         MainScreenAppear      2452      2479  98.67%  98.49%    0.587\n",
      "1       OffersScreenAppear      1544      1526  62.13%  60.63%    0.274\n",
      "2         CartScreenAppear      1267      1239  50.99%  49.23%    0.213\n",
      "3  PaymentScreenSuccessful      1200      1159  48.29%  46.05%    0.112\n",
      "4                 Tutorial       278       285  11.19%  11.32%    0.879\n",
      "\n",
      "✅ Todos os eventos apresentam p ≥ 0.05 → grupos A1 e A2 parecem bem balanceados (teste A/A válido).\n"
     ]
    },
    {
     "name": "stderr",
     "output_type": "stream",
     "text": [
      "C:\\Users\\jonat\\AppData\\Local\\Temp\\ipykernel_16848\\1512337063.py:4: FutureWarning: The default of observed=False is deprecated and will be changed to True in a future version of pandas. Pass observed=False to retain current behavior or observed=True to adopt the future default and silence this warning.\n",
      "  totais = df_ctl.groupby('group')['id'].nunique()\n",
      "C:\\Users\\jonat\\AppData\\Local\\Temp\\ipykernel_16848\\1512337063.py:19: FutureWarning: The default of observed=False is deprecated and will be changed to True in a future version of pandas. Pass observed=False to retain current behavior or observed=True to adopt the future default and silence this warning.\n",
      "  contagem_eventos = df_ctl.groupby('event')['id'].nunique().sort_values(ascending=False)\n"
     ]
    }
   ],
   "source": [
    "# 1) Prepara os grupos A1 e A2 (renomeando os valores de 'group' se necessário)\n",
    "df_ctl = df \n",
    "# Total de usuários únicos por grupo\n",
    "totais = df_ctl.groupby('group')['id'].nunique()\n",
    "\n",
    "# Função para calcular o teste z de duas proporções\n",
    "def z_test_prop(k1, n1, k2, n2):\n",
    "    # Proporção combinada\n",
    "    p_comb = (k1 + k2) / (n1 + n2)\n",
    "    # Erro padrão da diferença de proporções\n",
    "    se = np.sqrt(p_comb * (1 - p_comb) * (1/n1 + 1/n2))\n",
    "    # Estatística z\n",
    "    z = (k1/n1 - k2/n2) / se\n",
    "    # P-valor bicaudal\n",
    "    p = 2 * (1 - st.norm.cdf(abs(z)))\n",
    "    return z, p\n",
    "\n",
    "# 2) Identifica o evento mais popular (com maior número de usuários)\n",
    "contagem_eventos = df_ctl.groupby('event')['id'].nunique().sort_values(ascending=False)\n",
    "evento_mais_popular = contagem_eventos.index[0]\n",
    "\n",
    "# 3) Para o evento mais popular, conta os usuários únicos em A1 e A2\n",
    "k1 = df_ctl[(df_ctl['group']=='A1') & (df_ctl['event']==evento_mais_popular)]['id'].nunique()\n",
    "k2 = df_ctl[(df_ctl['group']=='A2') & (df_ctl['event']==evento_mais_popular)]['id'].nunique()\n",
    "n1, n2 = totais['A1'], totais['A2']\n",
    "\n",
    "# Testa a diferença de proporções para todos os eventos\n",
    "resultados = []\n",
    "for ev in contagem_eventos.index:\n",
    "    # Contagem dos usuários que realizaram o evento para A1 e A2\n",
    "    k1 = df_ctl[(df_ctl['group']=='A1') & (df_ctl['event']==ev)]['id'].nunique()\n",
    "    k2 = df_ctl[(df_ctl['group']=='A2') & (df_ctl['event']==ev)]['id'].nunique()\n",
    "    # Calcula o z-test\n",
    "    z, p = z_test_prop(k1, n1, k2, n2)\n",
    "    # Adiciona os resultados à lista\n",
    "    resultados.append((ev, k1, k2, f\"{k1/n1:.2%}\", f\"{k2/n2:.2%}\", round(p, 3)))\n",
    "\n",
    "# Cria um DataFrame para organizar e visualizar os resultados\n",
    "res_df = pd.DataFrame(resultados, columns=['event', 'A1_users', 'A2_users', 'A1_%', 'A2_%', 'p_value'])\n",
    "print(res_df)\n",
    "\n",
    "# 4) Verifica se os grupos estão bem balanceados\n",
    "if (res_df['p_value'] >= 0.05).all():\n",
    "    print(\"\\n✅ Todos os eventos apresentam p ≥ 0.05 → grupos A1 e A2 parecem bem balanceados (teste A/A válido).\")\n",
    "else:\n",
    "    print(\"\\n⚠️ Há pelo menos um evento com p < 0.05 → possível desequilíbrio entre A1 e A2.\")\n"
   ]
  },
  {
   "cell_type": "code",
   "execution_count": 200,
   "id": "b0a04697",
   "metadata": {},
   "outputs": [
    {
     "name": "stdout",
     "output_type": "stream",
     "text": [
      "                     event  A1_users  A2_users  B_users    A1_%    A2_%  \\\n",
      "4         CartScreenAppear      1267      1239     1236  50.99%  49.23%   \n",
      "0         MainScreenAppear      2452      2479     2498  98.67%  98.49%   \n",
      "1       OffersScreenAppear      1544      1526     1536  62.13%  60.63%   \n",
      "3  PaymentScreenSuccessful      1200      1159     1183  48.29%  46.05%   \n",
      "2                 Tutorial       278       285      282  11.19%  11.32%   \n",
      "\n",
      "      B_%  p_A1_vs_B  p_A2_vs_B  p_comb_vs_B  \n",
      "4  48.66%      0.099      0.688        0.238  \n",
      "0  98.35%      0.341      0.682        0.429  \n",
      "1  60.47%      0.227      0.910        0.447  \n",
      "3  46.57%      0.224      0.707        0.630  \n",
      "2  11.10%      0.924      0.804        0.842  \n",
      "\n",
      "✅ Todos os eventos têm p ≥ 0.05 em A1 vs B, A2 vs B e combinado vs B → grupos bem balanceados; nenhuma diferença significativa.\n"
     ]
    },
    {
     "name": "stderr",
     "output_type": "stream",
     "text": [
      "C:\\Users\\jonat\\AppData\\Local\\Temp\\ipykernel_16848\\997521166.py:5: FutureWarning: The default of observed=False is deprecated and will be changed to True in a future version of pandas. Pass observed=False to retain current behavior or observed=True to adopt the future default and silence this warning.\n",
      "  totais = df_exp.groupby('group')['id'].nunique()\n"
     ]
    }
   ],
   "source": [
    "\n",
    "# 1) Prepara o DataFrame com A1, A2 e B\n",
    "df_exp = df\n",
    "\n",
    "# 2) Totais de usuários únicos por grupo\n",
    "totais = df_exp.groupby('group')['id'].nunique()\n",
    "total_comb = totais['A1'] + totais['A2']\n",
    "\n",
    "# 3) Função de teste z de duas proporções (retorna p-valor)\n",
    "def z_test(k1, n1, k2, n2):\n",
    "    p_comb = (k1 + k2) / (n1 + n2)\n",
    "    se = np.sqrt(p_comb * (1 - p_comb) * (1/n1 + 1/n2))\n",
    "    z = (k1/n1 - k2/n2) / se\n",
    "    return 2 * (1 - st.norm.cdf(abs(z)))\n",
    "\n",
    "# 4) Monta a tabela\n",
    "resultados = []\n",
    "for ev in df_exp['event'].unique():\n",
    "    kA1 = df_exp[(df_exp['group']=='A1') & (df_exp['event']==ev)]['id'].nunique()\n",
    "    kA2 = df_exp[(df_exp['group']=='A2') & (df_exp['event']==ev)]['id'].nunique()\n",
    "    kB  = df_exp[(df_exp['group']=='B')  & (df_exp['event']==ev)]['id'].nunique()\n",
    "    pA1, pA2, pB = kA1/totais['A1'], kA2/totais['A2'], kB/totais['B']\n",
    "    \n",
    "    resultados.append({\n",
    "        'event':      ev,\n",
    "        'A1_users':   kA1,    'A2_users':   kA2,    'B_users':    kB,\n",
    "        'A1_%':       f'{pA1:.2%}', 'A2_%': f'{pA2:.2%}', 'B_%': f'{pB:.2%}',\n",
    "        'p_A1_vs_B':  round(z_test(kA1, totais['A1'], kB, totais['B']), 3),\n",
    "        'p_A2_vs_B':  round(z_test(kA2, totais['A2'], kB, totais['B']), 3),\n",
    "        'p_comb_vs_B':round(z_test(kA1+kA2, total_comb, kB, totais['B']), 3)\n",
    "    })\n",
    "\n",
    "tabela = pd.DataFrame(resultados).sort_values('event')\n",
    "print(tabela)\n",
    "# Supondo que sua tabela final se chame `tabela`\n",
    "mask_sem_diferenca = (\n",
    "    (tabela['p_A1_vs_B']  >= 0.05) &\n",
    "    (tabela['p_A2_vs_B']  >= 0.05) &\n",
    "    (tabela['p_comb_vs_B']>= 0.05)\n",
    ")\n",
    "\n",
    "if mask_sem_diferenca.all():\n",
    "    print(\"\\n✅ Todos os eventos têm p ≥ 0.05 em A1 vs B, A2 vs B e combinado vs B → grupos bem balanceados; nenhuma diferença significativa.\")\n",
    "else:\n",
    "    print(\"\\n⚠️ Há pelo menos um evento com p < 0.05 em alguma comparação → possível efeito do tratamento ou desequilíbrio na randomização.\")\n"
   ]
  },
  {
   "cell_type": "markdown",
   "id": "a71f61e3",
   "metadata": {},
   "source": [
    "Nenhum p-valor fica abaixo de 0.05, em nenhuma das três comparações para qualquer evento.\n",
    "\n",
    "Isso significa que não há diferença estatisticamente significativa entre o grupo de fontes alteradas (B) e nenhum dos grupos de controle (A1, A2 ou A1 + A2) em termos da proporção de usuários que executaram cada evento.\n",
    "# Conclusões do experimento\n",
    "\n",
    "A randomização dos usuários parece ter funcionado corretamente: os três grupos são estatisticamente equivalentes para todas as ações medida"
   ]
  },
  {
   "cell_type": "code",
   "execution_count": 203,
   "id": "8c216310",
   "metadata": {},
   "outputs": [
    {
     "name": "stdout",
     "output_type": "stream",
     "text": [
      "\n",
      "✅ Todos os eventos apresentam p ≥ 0.1 → grupos A1 e A2 parecem bem balanceados (teste A/A válido).\n",
      "\n",
      "⚠️ Há pelo menos um evento com p < 0.1 em alguma comparação → possível efeito do tratamento ou desequilíbrio na randomização.\n"
     ]
    }
   ],
   "source": [
    "alpha = 0.1\n",
    "\n",
    "if (res_df['p_value'] >= alpha).all():\n",
    "    print(f\"\\n✅ Todos os eventos apresentam p ≥ {alpha} → grupos A1 e A2 parecem bem balanceados (teste A/A válido).\")\n",
    "else:\n",
    "    print(f\"\\n⚠️ Há pelo menos um evento com p < {alpha} → possível desequilíbrio entre A1 e A2.\")\n",
    "\n",
    "\n",
    "mask_sem_diferenca = (\n",
    "    (tabela['p_A1_vs_B']  >= alpha) &\n",
    "    (tabela['p_A2_vs_B']  >= alpha) &\n",
    "    (tabela['p_comb_vs_B']>= alpha)\n",
    ")\n",
    "\n",
    "if mask_sem_diferenca.all():\n",
    "    print(f\"\\n✅ Todos os eventos têm p ≥ {alpha} em A1 vs B, A2 vs B e combinado vs B → grupos bem balanceados; nenhuma diferença significativa.\")\n",
    "else:\n",
    "    print(f\"\\n⚠️ Há pelo menos um evento com p < {alpha} em alguma comparação → possível efeito do tratamento ou desequilíbrio na randomização.\")"
   ]
  },
  {
   "cell_type": "markdown",
   "id": "d4d3b481",
   "metadata": {},
   "source": [
    "Em cada um dos comparativos (A1 vs A2, A1 vs B, A2 vs B e combinado vs B), foi utilizado um nível de significância de α = 0,1 para rejeição da hipótese nula (H₀). Esse valor indica que estamos aceitando até 10% de chance de cometer um erro tipo I em cada teste isolado.\n",
    "Foram analisados 5 eventos, com 3 comparações realizadas em cada um (A1 vs B, A2 vs B e A1+A2 vs B), totalizando 15 testes estatísticos.\n",
    "\n",
    "Isso significa que, com α = 0,1, existe uma chance de até 10% de rejeitar uma hipótese nula verdadeira em cada teste, o que aumenta a probabilidade de pelo menos um falso positivo ao realizar múltiplos testes.\n",
    "\n",
    "Para controlar o erro global, uma alternativa é aplicar o ajuste de Bonferroni: α corrigido = 0,05 / 15 ≈ 0,0033 por teste. Outra possibilidade é usar o método de controle da FDR, como Benjamini-Hochberg, que é menos conservador e busca equilibrar descobertas verdadeiras com o risco de falsos positivos.\n",
    "\n",
    "Caso decida aplicar um nível de significância ajustado (como 0,0033), será necessário refazer todos os testes e verificar se os p-valores permanecem abaixo do novo limiar. Isso indicará se ainda há diferenças estatisticamente significativas."
   ]
  },
  {
   "cell_type": "markdown",
   "id": "b036762d",
   "metadata": {},
   "source": [
    "## Conclusão\n",
    "\n",
    "Após a análise detalhada dos logs de eventos do teste A/B, podemos tirar as seguintes conclusões:\n",
    "\n",
    "1.  **Pré-processamento e Análise Exploratória:** Os dados foram carregados, limpos e preparados adequadamente. A análise exploratória revelou um funil de eventos claro (`MainScreenAppear` -> `OffersScreenAppear` -> `CartScreenAppear` -> `PaymentScreenSuccessful`), com a maior taxa de abandono ocorrendo na primeira transição. Cerca de 39% dos usuários que iniciaram o funil completaram o pagamento. Os dados mostraram maior consistência a partir de 31/07/2019, mas a análise utilizou o conjunto completo devido à perda mínima de dados ao filtrar.\n",
    "\n",
    "2.  **Validação do Teste A/A:** A comparação entre os grupos de controle A1 e A2 (teste A/A) não mostrou diferenças estatisticamente significativas nas proporções de usuários para nenhum dos eventos analisados, utilizando o **nível de significância α = 0,1** definido para cada teste individual (todos os p-valores foram maiores que 0,1). Isso confirma que os grupos de controle eram homogêneos e que a divisão dos usuários foi feita corretamente, validando a configuração do experimento.\n",
    "\n",
    "3.  **Resultados do Teste A/B:** A comparação do grupo de teste B (com a nova fonte) contra os grupos de controle A1, A2 e o combinado (A1+A2) também não revelou diferenças estatisticamente significativas em nenhuma das etapas do funil. Todos os p-valores calculados para as 15 comparações A/B foram **superiores ao nível de significância α = 0,1**.\n",
    "\n",
    "4.  **Impacto da Mudança de Fonte:** Com base nos resultados dos testes estatísticos (utilizando um nível de significância **α = 0,1 por teste**), **não há evidências estatísticas para concluir que a alteração da fonte no aplicativo teve um impacto mensurável** na proporção de usuários que progridem através das principais etapas do funil de compra durante o período analisado. A mudança parece ser neutra em relação a essas métricas.\n",
    "\n",
    "5.  **Considerações sobre Testes Múltiplos e Nível de Significância:** Foi utilizado um nível de significância de **α = 0,1** para cada teste individual. Foram realizados 15 testes estatísticos independentes nas comparações A/B (5 eventos x 3 comparações). Embora usar α = 0,1 aumente a chance de erro Tipo I (rejeitar H₀ quando ela é verdadeira) para 10% em cada teste, a realização de múltiplos testes eleva a probabilidade acumulada de ocorrer pelo menos um falso positivo (erro familiar). Métodos como a correção de Bonferroni (α corrigido ≈ 0,0033) ou o controle da Taxa de Falsas Descobertas (FDR) poderiam ser usados para mitigar esse risco. No entanto, como **nenhum dos p-valores individuais sequer se aproximou do limiar inicial de 0,1**, a aplicação dessas correções mais rigorosas não alteraria a conclusão principal. A ausência de significância estatística, mesmo sob um critério individual menos estrito (α = 0,1), reforça a conclusão de que a mudança de fonte provavelmente não teve um efeito detectável.\n",
    "\n",
    "Portanto, o experimento indica fortemente que a alteração da fonte é neutra em relação ao comportamento do usuário no funil de compras principal, conforme medido pelas proporções de conversão entre etapas."
   ]
  }
 ],
 "metadata": {
  "kernelspec": {
   "display_name": "Python 3",
   "language": "python",
   "name": "python3"
  },
  "language_info": {
   "codemirror_mode": {
    "name": "ipython",
    "version": 3
   },
   "file_extension": ".py",
   "mimetype": "text/x-python",
   "name": "python",
   "nbconvert_exporter": "python",
   "pygments_lexer": "ipython3",
   "version": "3.12.5"
  }
 },
 "nbformat": 4,
 "nbformat_minor": 5
}
