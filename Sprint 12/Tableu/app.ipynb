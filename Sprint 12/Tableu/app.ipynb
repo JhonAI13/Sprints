{
 "cells": [
  {
   "cell_type": "code",
   "execution_count": 4,
   "id": "cbc71a4f",
   "metadata": {},
   "outputs": [
    {
     "data": {
      "text/html": [
       "<div>\n",
       "<style scoped>\n",
       "    .dataframe tbody tr th:only-of-type {\n",
       "        vertical-align: middle;\n",
       "    }\n",
       "\n",
       "    .dataframe tbody tr th {\n",
       "        vertical-align: top;\n",
       "    }\n",
       "\n",
       "    .dataframe thead th {\n",
       "        text-align: right;\n",
       "    }\n",
       "</style>\n",
       "<table border=\"1\" class=\"dataframe\">\n",
       "  <thead>\n",
       "    <tr style=\"text-align: right;\">\n",
       "      <th></th>\n",
       "      <th>Country</th>\n",
       "      <th>Year</th>\n",
       "      <th>Population Type</th>\n",
       "      <th>Population</th>\n",
       "    </tr>\n",
       "  </thead>\n",
       "  <tbody>\n",
       "    <tr>\n",
       "      <th>0</th>\n",
       "      <td>Afghanistan</td>\n",
       "      <td>1950-01-01</td>\n",
       "      <td>Urban</td>\n",
       "      <td>465127</td>\n",
       "    </tr>\n",
       "    <tr>\n",
       "      <th>1</th>\n",
       "      <td>Afghanistan</td>\n",
       "      <td>1951-01-01</td>\n",
       "      <td>Urban</td>\n",
       "      <td>486716</td>\n",
       "    </tr>\n",
       "    <tr>\n",
       "      <th>2</th>\n",
       "      <td>Afghanistan</td>\n",
       "      <td>1952-01-01</td>\n",
       "      <td>Urban</td>\n",
       "      <td>509649</td>\n",
       "    </tr>\n",
       "    <tr>\n",
       "      <th>3</th>\n",
       "      <td>Afghanistan</td>\n",
       "      <td>1953-01-01</td>\n",
       "      <td>Urban</td>\n",
       "      <td>534076</td>\n",
       "    </tr>\n",
       "    <tr>\n",
       "      <th>4</th>\n",
       "      <td>Afghanistan</td>\n",
       "      <td>1954-01-01</td>\n",
       "      <td>Urban</td>\n",
       "      <td>560158</td>\n",
       "    </tr>\n",
       "    <tr>\n",
       "      <th>5</th>\n",
       "      <td>Afghanistan</td>\n",
       "      <td>1955-01-01</td>\n",
       "      <td>Urban</td>\n",
       "      <td>587819</td>\n",
       "    </tr>\n",
       "    <tr>\n",
       "      <th>6</th>\n",
       "      <td>Afghanistan</td>\n",
       "      <td>1956-01-01</td>\n",
       "      <td>Urban</td>\n",
       "      <td>617401</td>\n",
       "    </tr>\n",
       "    <tr>\n",
       "      <th>7</th>\n",
       "      <td>Afghanistan</td>\n",
       "      <td>1957-01-01</td>\n",
       "      <td>Urban</td>\n",
       "      <td>648757</td>\n",
       "    </tr>\n",
       "    <tr>\n",
       "      <th>8</th>\n",
       "      <td>Afghanistan</td>\n",
       "      <td>1958-01-01</td>\n",
       "      <td>Urban</td>\n",
       "      <td>682255</td>\n",
       "    </tr>\n",
       "    <tr>\n",
       "      <th>9</th>\n",
       "      <td>Afghanistan</td>\n",
       "      <td>1959-01-01</td>\n",
       "      <td>Urban</td>\n",
       "      <td>717846</td>\n",
       "    </tr>\n",
       "  </tbody>\n",
       "</table>\n",
       "</div>"
      ],
      "text/plain": [
       "       Country        Year Population Type  Population\n",
       "0  Afghanistan  1950-01-01           Urban      465127\n",
       "1  Afghanistan  1951-01-01           Urban      486716\n",
       "2  Afghanistan  1952-01-01           Urban      509649\n",
       "3  Afghanistan  1953-01-01           Urban      534076\n",
       "4  Afghanistan  1954-01-01           Urban      560158\n",
       "5  Afghanistan  1955-01-01           Urban      587819\n",
       "6  Afghanistan  1956-01-01           Urban      617401\n",
       "7  Afghanistan  1957-01-01           Urban      648757\n",
       "8  Afghanistan  1958-01-01           Urban      682255\n",
       "9  Afghanistan  1959-01-01           Urban      717846"
      ]
     },
     "execution_count": 4,
     "metadata": {},
     "output_type": "execute_result"
    }
   ],
   "source": [
    "import pandas as pd\n",
    "\n",
    "urbanization = pd.read_csv(r'C:\\Users\\jonat\\Documents\\GitHub\\Sprints\\Sprint 12\\Automação\\Tableu\\urbanization_rot.csv')\n",
    "urbanization.head(10)"
   ]
  },
  {
   "cell_type": "code",
   "execution_count": 6,
   "id": "20a68b80",
   "metadata": {},
   "outputs": [
    {
     "data": {
      "text/plain": [
       "212"
      ]
     },
     "execution_count": 6,
     "metadata": {},
     "output_type": "execute_result"
    }
   ],
   "source": [
    "urbanization['Country'].nunique()"
   ]
  }
 ],
 "metadata": {
  "kernelspec": {
   "display_name": "Python 3",
   "language": "python",
   "name": "python3"
  },
  "language_info": {
   "codemirror_mode": {
    "name": "ipython",
    "version": 3
   },
   "file_extension": ".py",
   "mimetype": "text/x-python",
   "name": "python",
   "nbconvert_exporter": "python",
   "pygments_lexer": "ipython3",
   "version": "3.12.5"
  }
 },
 "nbformat": 4,
 "nbformat_minor": 5
}
