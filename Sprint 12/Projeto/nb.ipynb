{
 "cells": [
  {
   "cell_type": "code",
   "execution_count": null,
   "id": "bc4ea118",
   "metadata": {},
   "outputs": [],
   "source": [
    "import pandas as pd\n",
    "import matplotlib.pyplot as plt\n",
    "import os\n",
    "\n",
    "\n",
    "df = pd.read_csv(r\"C:\\Users\\jonat\\Documents\\GitHub\\Sprints\\Sprint 12\\Projeto\\dados\\trending_by_time.csv\")\n",
    "print(df.head())\n"
   ]
  },
  {
   "cell_type": "code",
   "execution_count": null,
   "id": "cb6ba695",
   "metadata": {},
   "outputs": [],
   "source": [
    "# Garante que o diretório \"gráficos\" exista\n",
    "os.makedirs('gráficos', exist_ok=True)\n",
    "\n",
    "# Soma total de vídeos em alta por categoria\n",
    "contagem = df.groupby('category_title')['videos_count'].sum().sort_values(ascending=False)\n",
    "\n",
    "# Gráfico com fundo preto\n",
    "plt.style.use('dark_background')\n",
    "contagem.plot(kind='bar', figsize=(10, 5))\n",
    "\n",
    "plt.title('Categorias com Mais Vídeos em Alta')\n",
    "plt.xlabel('Categoria')\n",
    "plt.ylabel('Total de Vídeos em Alta')\n",
    "plt.xticks(rotation=45)\n",
    "\n",
    "plt.tight_layout()\n",
    "\n",
    "# Salva o gráfico em PNG\n",
    "plt.savefig('gráficos/categorias_em_alta.png', dpi=300)\n",
    "\n",
    "# Mostra o gráfico (opcional)\n",
    "plt.show()"
   ]
  },
  {
   "cell_type": "code",
   "execution_count": null,
   "id": "d5037431",
   "metadata": {},
   "outputs": [],
   "source": [
    "\n",
    "# Soma dos vídeos em alta por região\n",
    "contagem = df.groupby('region')['videos_count'].sum().sort_values(ascending=False)\n",
    "\n",
    "# Gráfico com fundo preto\n",
    "plt.style.use('dark_background')\n",
    "contagem.plot(kind='bar', figsize=(10, 5), color='skyblue')\n",
    "\n",
    "plt.title('Distribuição dos Vídeos em Alta por Região')\n",
    "plt.xlabel('Região')\n",
    "plt.ylabel('Total de Vídeos em Alta')\n",
    "plt.xticks(rotation=0)\n",
    "plt.grid()\n",
    "plt.tight_layout()\n",
    "plt.savefig('gráficos/Distribuição', dpi=300)\n",
    "\n",
    "plt.show()\n"
   ]
  },
  {
   "cell_type": "code",
   "execution_count": null,
   "id": "45b58fcc",
   "metadata": {},
   "outputs": [],
   "source": [
    "import pandas as pd\n",
    "import matplotlib.pyplot as plt\n",
    "\n",
    "# Soma vídeos em alta por categoria nos EUA e fora dos EUA\n",
    "soma_eua    = df[df['region'] == 'United States'].groupby('category_title')['videos_count'].sum()\n",
    "soma_outros = df[df['region'] != 'United States'].groupby('category_title')['videos_count'].sum()\n",
    "\n",
    "# DataFrame comparativo e seleção das top 10 categorias pelos EUA\n",
    "comp = pd.concat([soma_eua, soma_outros], axis=1, keys=['EUA', 'Outros']).fillna(0)\n",
    "comp = comp.sort_values('EUA', ascending=False).head(10)\n",
    "\n",
    "# Plot multi-bar com tema preto\n",
    "plt.style.use('dark_background')\n",
    "ax = comp.plot(kind='bar', figsize=(12, 6))\n",
    "\n",
    "ax.set_title('Top 10 Categorias em Alta nos EUA vs Outros', pad=15, color='white')\n",
    "ax.set_xlabel('Categoria', labelpad=10, color='white')\n",
    "ax.set_ylabel('Total de Vídeos em Alta', labelpad=10, color='white')\n",
    "ax.legend(['EUA', 'Outros'], frameon=False, loc='upper right', facecolor='black', edgecolor='white', labelcolor='white')\n",
    "ax.tick_params(axis='x', rotation=25, labelcolor='white')\n",
    "ax.tick_params(axis='y', labelcolor='white')\n",
    "\n",
    "plt.savefig('gráficos/EUA.png', dpi=400, bbox_inches='tight')\n",
    "plt.tight_layout()\n",
    "plt.show()\n"
   ]
  },
  {
   "cell_type": "code",
   "execution_count": null,
   "id": "25098ef7",
   "metadata": {},
   "outputs": [],
   "source": []
  }
 ],
 "metadata": {
  "kernelspec": {
   "display_name": "Python 3",
   "language": "python",
   "name": "python3"
  },
  "language_info": {
   "codemirror_mode": {
    "name": "ipython",
    "version": 3
   },
   "file_extension": ".py",
   "mimetype": "text/x-python",
   "name": "python",
   "nbconvert_exporter": "python",
   "pygments_lexer": "ipython3",
   "version": "3.12.5"
  }
 },
 "nbformat": 4,
 "nbformat_minor": 5
}
