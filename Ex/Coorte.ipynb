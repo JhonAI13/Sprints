{
 "cells": [
  {
   "cell_type": "markdown",
   "metadata": {},
   "source": [
    "# Exercício Prático de Análise de Coorte em Python\n",
    "\n",
    "Este notebook irá guiá-lo através de um exercício simples para criar uma tabela de coorte usando Python e a biblioteca Pandas. O objetivo é entender como agrupar usuários por sua primeira ação (neste caso, a primeira compra) e analisar seu comportamento ao longo do tempo.\n",
    "\n",
    "**Passos que iremos seguir:**\n",
    "1. **Criar Dados de Exemplo:** Vamos gerar um DataFrame simples com dados de pedidos.\n",
    "2. **Identificar a Data da Primeira Compra:** Para cada cliente, encontraremos a data do seu primeiro pedido.\n",
    "3. **Criar Coortes Mensais:** Agrupar os clientes pelo mês da sua primeira compra.\n",
    "4. **Analisar o Comportamento da Coorte:** Contar o número de clientes ativos em cada mês para cada coorte.\n",
    "5. **Criar a Tabela de Coorte:** Usar uma tabela dinâmica para visualizar a retenção de clientes por coorte."
   ]
  },
  {
   "cell_type": "markdown",
   "metadata": {},
   "source": [
    "## 1. Criar Dados de Exemplo\n",
    "\n",
    "Vamos criar um DataFrame Pandas simulando dados de pedidos online. Este DataFrame terá as seguintes colunas:\n",
    "- `order_date`: Data do pedido.\n",
    "- `customer_id`: ID do cliente.\n",
    "- `revenue`: Valor do pedido."
   ]
  },
  {
   "cell_type": "code",
   "execution_count": 1,
   "metadata": {},
   "outputs": [
    {
     "name": "stdout",
     "output_type": "stream",
     "text": [
      "  order_date  customer_id  revenue\n",
      "0 2023-01-15            1       50\n",
      "1 2023-01-20            1       60\n",
      "2 2023-02-05            2       70\n",
      "3 2023-02-10            2       80\n",
      "4 2023-01-25            3       90\n"
     ]
    }
   ],
   "source": [
    "import pandas as pd\n",
    "\n",
    "# Criando um dicionário com dados de exemplo\n",
    "data = {\n",
    "    'order_date': pd.to_datetime(['2023-01-15', '2023-01-20', '2023-02-05', '2023-02-10', '2023-01-25', '2023-02-15', '2023-03-01', '2023-03-10', '2023-03-20', '2023-03-25'] * 3),\n",
    "    'customer_id': [1, 1, 2, 2, 3, 3, 4, 4, 5, 5] * 3,\n",
    "    'revenue': [50, 60, 70, 80, 90, 100, 110, 120, 130, 140] * 3\n",
    "}\n",
    "\n",
    "# Criando o DataFrame\n",
    "orders = pd.DataFrame(data)\n",
    "\n",
    "print(orders.head())"
   ]
  },
  {
   "cell_type": "markdown",
   "metadata": {},
   "source": [
    "## 2. Identificar a Data da Primeira Compra\n",
    "\n",
    "Agora, vamos encontrar a data do primeiro pedido para cada cliente. Usaremos `groupby()` por `customer_id` e `.min()` na coluna `order_date`."
   ]
  },
  {
   "cell_type": "code",
   "execution_count": 2,
   "metadata": {},
   "outputs": [
    {
     "name": "stdout",
     "output_type": "stream",
     "text": [
      "customer_id\n",
      "1   2023-01-15\n",
      "2   2023-02-05\n",
      "3   2023-01-25\n",
      "4   2023-03-01\n",
      "5   2023-03-20\n",
      "Name: first_order_date, dtype: datetime64[ns]\n"
     ]
    }
   ],
   "source": [
    "# Encontrando a data do primeiro pedido para cada cliente\n",
    "first_order_date_by_customers = orders.groupby('customer_id')['order_date'].min()\n",
    "\n",
    "# Renomeando a Series para facilitar o merge\n",
    "first_order_date_by_customers.name = 'first_order_date'\n",
    "\n",
    "print(first_order_date_by_customers)"
   ]
  },
  {
   "cell_type": "markdown",
   "metadata": {},
   "source": [
    "## 3. Criar Coortes Mensais\n",
    "\n",
    "Vamos juntar a data do primeiro pedido de volta ao DataFrame `orders` e criar colunas para o mês do pedido e o mês da primeira compra para definir nossas coortes."
   ]
  },
  {
   "cell_type": "code",
   "execution_count": 3,
   "metadata": {},
   "outputs": [
    {
     "name": "stdout",
     "output_type": "stream",
     "text": [
      "  order_date  customer_id  revenue first_order_date order_month  \\\n",
      "0 2023-01-15            1       50       2023-01-15     2023-01   \n",
      "1 2023-01-20            1       60       2023-01-15     2023-01   \n",
      "2 2023-02-05            2       70       2023-02-05     2023-02   \n",
      "3 2023-02-10            2       80       2023-02-05     2023-02   \n",
      "4 2023-01-25            3       90       2023-01-25     2023-01   \n",
      "\n",
      "  first_order_month  \n",
      "0           2023-01  \n",
      "1           2023-01  \n",
      "2           2023-02  \n",
      "3           2023-02  \n",
      "4           2023-01  \n"
     ]
    }
   ],
   "source": [
    "# Juntando a data do primeiro pedido ao DataFrame original\n",
    "orders = orders.join(first_order_date_by_customers, on='customer_id')\n",
    "\n",
    "# Criando colunas para o mês do pedido e o mês da primeira compra\n",
    "orders['order_month'] = orders['order_date'].dt.to_period('M')\n",
    "orders['first_order_month'] = orders['first_order_date'].dt.to_period('M')\n",
    "\n",
    "print(orders.head())"
   ]
  },
  {
   "cell_type": "markdown",
   "metadata": {},
   "source": [
    "## 4. Analisar o Comportamento da Coorte\n",
    "\n",
    "Agora, vamos agrupar os dados por coorte (mês da primeira compra) e mês do pedido para contar o número de clientes únicos em cada grupo."
   ]
  },
  {
   "cell_type": "code",
   "execution_count": 4,
   "metadata": {},
   "outputs": [
    {
     "name": "stdout",
     "output_type": "stream",
     "text": [
      "  first_order_month order_month  customer_id\n",
      "0           2023-01     2023-01            2\n",
      "1           2023-01     2023-02            1\n",
      "2           2023-02     2023-02            1\n",
      "3           2023-03     2023-03            2\n"
     ]
    }
   ],
   "source": [
    "# Agrupando por coorte e mês do pedido e contando clientes únicos\n",
    "cohort_analysis = orders.groupby(['first_order_month', 'order_month']).agg({'customer_id': 'nunique'}).reset_index()\n",
    "\n",
    "print(cohort_analysis)"
   ]
  },
  {
   "cell_type": "markdown",
   "metadata": {},
   "source": [
    "## 5. Criar a Tabela de Coorte\n",
    "\n",
    "Finalmente, vamos usar `pivot_table` para formatar nossos resultados em uma tabela de coorte, onde as linhas representam as coortes (mês da primeira compra) e as colunas representam os meses subsequentes."
   ]
  },
  {
   "cell_type": "code",
   "execution_count": 5,
   "metadata": {},
   "outputs": [
    {
     "name": "stdout",
     "output_type": "stream",
     "text": [
      "order_month        2023-01  2023-02  2023-03\n",
      "first_order_month                           \n",
      "2023-01                2.0      1.0      NaN\n",
      "2023-02                NaN      1.0      NaN\n",
      "2023-03                NaN      NaN      2.0\n"
     ]
    }
   ],
   "source": [
    "# Criando a tabela dinâmica de coorte\n",
    "cohort_pivot = cohort_analysis.pivot_table(index='first_order_month', columns='order_month', values='customer_id')\n",
    "\n",
    "print(cohort_pivot)"
   ]
  },
  {
   "cell_type": "markdown",
   "metadata": {},
   "source": [
    "## Exercício Adicional\n",
    "\n",
    "**Tarefa:** Modifique o código para calcular a receita total por coorte e mês do pedido, em vez de contar o número de clientes únicos. Crie uma nova tabela dinâmica que mostre a receita total por coorte ao longo do tempo.\n",
    "\n",
    "**Dica:** Em vez de usar `'customer_id': 'nunique'` na função `agg()`, use `'revenue': 'sum'`. Ajuste também a função `pivot_table` para usar os valores de receita."
   ]
  }
 ],
 "metadata": {
  "kernelspec": {
   "display_name": "Python 3",
   "language": "python",
   "name": "python3"
  },
  "language_info": {
   "codemirror_mode": {
    "name": "ipython",
    "version": 3
   },
   "file_extension": ".py",
   "mimetype": "text/x-python",
   "name": "python",
   "nbconvert_exporter": "python",
   "pygments_lexer": "ipython3",
   "version": "3.12.5"
  }
 },
 "nbformat": 4,
 "nbformat_minor": 4
}
